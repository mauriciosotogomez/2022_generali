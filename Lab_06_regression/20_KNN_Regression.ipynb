{
 "cells": [
  {
   "cell_type": "markdown",
   "metadata": {},
   "source": [
    "# KNN Regression\n"
   ]
  },
  {
   "cell_type": "code",
   "execution_count": 1,
   "metadata": {
    "scrolled": false
   },
   "outputs": [],
   "source": [
    "import numpy as np\n",
    "import pandas as pd\n",
    "import numpy as np\n",
    "\n",
    "#Boston Housing Dataset: Load the boston dataset.\n",
    "from sklearn.datasets import load_boston\n",
    "boston = load_boston()\n",
    "\n",
    "#Creating feature and target arrays\n",
    "X, y = boston.data, boston.target\n",
    "columns = boston.feature_names\n",
    "\n",
    "from sklearn.preprocessing import StandardScaler\n",
    "scaler = StandardScaler(copy=False).fit(X)\n",
    "X=scaler.transform(X)"
   ]
  },
  {
   "cell_type": "code",
   "execution_count": 2,
   "metadata": {},
   "outputs": [],
   "source": [
    "X=X[y<50]\n",
    "y=y[y<50]\n",
    "\n",
    "from sklearn.model_selection import train_test_split\n",
    "\n",
    "X_train, X_test, y_train, y_test = train_test_split(X,y,\n",
    "                                                    test_size=0.3,\n",
    "                                                    random_state=123)"
   ]
  },
  {
   "cell_type": "code",
   "execution_count": 3,
   "metadata": {},
   "outputs": [
    {
     "data": {
      "text/plain": [
       "(343, 13)"
      ]
     },
     "execution_count": 3,
     "metadata": {},
     "output_type": "execute_result"
    }
   ],
   "source": [
    "X_train.shape"
   ]
  },
  {
   "cell_type": "code",
   "execution_count": 4,
   "metadata": {},
   "outputs": [],
   "source": [
    "#print(boston[\"DESCR\"])"
   ]
  },
  {
   "cell_type": "code",
   "execution_count": 5,
   "metadata": {
    "scrolled": false
   },
   "outputs": [],
   "source": [
    "#DEFINE YOUR REGRESSOR and THE PARAMETERS GRID\n",
    "from sklearn.neighbors import KNeighborsRegressor\n",
    "from sklearn import metrics\n",
    "\n",
    "regressor = KNeighborsRegressor()\n",
    "\n",
    "# n_neighbors: Number of neighbors \n",
    "# weight: ‘uniform’ : uniform weights. ‘distance’ : weight points by the inverse of their distance.\n",
    "# p Power parameter for the Minkowski metric.\n",
    "# n_job:  number of parallel jobs to run (-1)\n",
    "\n",
    "parameters = {'n_neighbors': np.arange(4, 20)\n",
    "              ,'p': [1,2,3]\n",
    "            }\n",
    "\n",
    "#DEFINE YOUR GRIDSEARCH \n",
    "from sklearn.model_selection import GridSearchCV\n",
    "gs = GridSearchCV(regressor, parameters, cv=3, verbose = 0, scoring ='neg_mean_absolute_error')\n",
    "#,https://scikit-learn.org/stable/modules/model_evaluation.html \n",
    "#with no params it reduces to a CV\n",
    "#'neg_mean_absolute_error',\n",
    "#'neg_mean_squared_error'\n",
    "# 'r2'\n",
    "\n",
    "gs = gs.fit(X_train,y_train)\n",
    "\n"
   ]
  },
  {
   "cell_type": "code",
   "execution_count": 6,
   "metadata": {},
   "outputs": [
    {
     "name": "stdout",
     "output_type": "stream",
     "text": [
      "***GRIDSEARCH RESULTS***\n",
      "Best score: -2.663195 using {'n_neighbors': 6, 'p': 1}\n",
      "-2.734708 (0.168300) with: {'n_neighbors': 4, 'p': 1}\n",
      "-2.710120 (0.083680) with: {'n_neighbors': 4, 'p': 2}\n",
      "-2.675896 (0.065782) with: {'n_neighbors': 4, 'p': 3}\n",
      "-2.689711 (0.126600) with: {'n_neighbors': 5, 'p': 1}\n",
      "-2.718903 (0.049697) with: {'n_neighbors': 5, 'p': 2}\n",
      "-2.809146 (0.110487) with: {'n_neighbors': 5, 'p': 3}\n",
      "-2.663195 (0.133074) with: {'n_neighbors': 6, 'p': 1}\n",
      "-2.717043 (0.033623) with: {'n_neighbors': 6, 'p': 2}\n",
      "-2.813350 (0.106031) with: {'n_neighbors': 6, 'p': 3}\n",
      "-2.700916 (0.141565) with: {'n_neighbors': 7, 'p': 1}\n",
      "-2.743246 (0.063169) with: {'n_neighbors': 7, 'p': 2}\n",
      "-2.882988 (0.170374) with: {'n_neighbors': 7, 'p': 3}\n",
      "-2.683837 (0.133819) with: {'n_neighbors': 8, 'p': 1}\n",
      "-2.778727 (0.115310) with: {'n_neighbors': 8, 'p': 2}\n",
      "-2.924009 (0.182554) with: {'n_neighbors': 8, 'p': 3}\n",
      "-2.720268 (0.132197) with: {'n_neighbors': 9, 'p': 1}\n",
      "-2.796216 (0.145876) with: {'n_neighbors': 9, 'p': 2}\n",
      "-2.939621 (0.217062) with: {'n_neighbors': 9, 'p': 3}\n",
      "-2.699624 (0.106871) with: {'n_neighbors': 10, 'p': 1}\n",
      "-2.818148 (0.121008) with: {'n_neighbors': 10, 'p': 2}\n",
      "-2.966979 (0.189659) with: {'n_neighbors': 10, 'p': 3}\n",
      "-2.721568 (0.093042) with: {'n_neighbors': 11, 'p': 1}\n",
      "-2.816324 (0.152243) with: {'n_neighbors': 11, 'p': 2}\n",
      "-2.989187 (0.188450) with: {'n_neighbors': 11, 'p': 3}\n",
      "-2.772345 (0.118832) with: {'n_neighbors': 12, 'p': 1}\n",
      "-2.831999 (0.174670) with: {'n_neighbors': 12, 'p': 2}\n",
      "-2.979064 (0.179047) with: {'n_neighbors': 12, 'p': 3}\n",
      "-2.838355 (0.123441) with: {'n_neighbors': 13, 'p': 1}\n",
      "-2.906655 (0.192552) with: {'n_neighbors': 13, 'p': 2}\n",
      "-3.006224 (0.180033) with: {'n_neighbors': 13, 'p': 3}\n",
      "-2.870280 (0.117613) with: {'n_neighbors': 14, 'p': 1}\n",
      "-2.938342 (0.186383) with: {'n_neighbors': 14, 'p': 2}\n",
      "-3.037287 (0.162230) with: {'n_neighbors': 14, 'p': 3}\n",
      "-2.882014 (0.137547) with: {'n_neighbors': 15, 'p': 1}\n",
      "-2.964793 (0.192983) with: {'n_neighbors': 15, 'p': 2}\n",
      "-3.024590 (0.151677) with: {'n_neighbors': 15, 'p': 3}\n",
      "-2.905441 (0.141765) with: {'n_neighbors': 16, 'p': 1}\n",
      "-2.981079 (0.171539) with: {'n_neighbors': 16, 'p': 2}\n",
      "-3.045253 (0.173480) with: {'n_neighbors': 16, 'p': 3}\n",
      "-2.947329 (0.136993) with: {'n_neighbors': 17, 'p': 1}\n",
      "-2.991766 (0.179294) with: {'n_neighbors': 17, 'p': 2}\n",
      "-3.087006 (0.181926) with: {'n_neighbors': 17, 'p': 3}\n",
      "-2.964612 (0.150336) with: {'n_neighbors': 18, 'p': 1}\n",
      "-3.016569 (0.174891) with: {'n_neighbors': 18, 'p': 2}\n",
      "-3.114809 (0.190440) with: {'n_neighbors': 18, 'p': 3}\n",
      "-2.994987 (0.162151) with: {'n_neighbors': 19, 'p': 1}\n",
      "-3.032422 (0.177604) with: {'n_neighbors': 19, 'p': 2}\n",
      "-3.131949 (0.174574) with: {'n_neighbors': 19, 'p': 3}\n"
     ]
    },
    {
     "data": {
      "text/plain": [
       "-2.4846938775510203"
      ]
     },
     "execution_count": 6,
     "metadata": {},
     "output_type": "execute_result"
    }
   ],
   "source": [
    "#summarize the results of your GRIDSEARCH\n",
    "print('***GRIDSEARCH RESULTS***')\n",
    "print(\"Best score: %f using %s\" % (gs.best_score_, gs.best_params_))\n",
    "means = gs.cv_results_['mean_test_score']\n",
    "stds = gs.cv_results_['std_test_score']\n",
    "params = gs.cv_results_['params']\n",
    "for mean, stdev, param in zip(means, stds, params):\n",
    "    print(\"%f (%f) with: %r\" % (mean, stdev, param))\n",
    "\n",
    "#Returns the coefficient of determination R^2 of the prediction.\n",
    "#Explained variance score: 1 is perfect prediction\n",
    "gs.score(X_test, y_test)"
   ]
  },
  {
   "cell_type": "code",
   "execution_count": 7,
   "metadata": {},
   "outputs": [
    {
     "data": {
      "image/png": "[encoded data removed]",
      "text/plain": [
       "<Figure size 432x288 with 1 Axes>"
      ]
     },
     "metadata": {
      "needs_background": "light"
     },
     "output_type": "display_data"
    }
   ],
   "source": [
    "%matplotlib inline\n",
    "\n",
    "import matplotlib.pyplot as plt\n",
    "\n",
    "plt.plot (means, color='blue', alpha=1.00)\n",
    "plt.show()"
   ]
  },
  {
   "cell_type": "code",
   "execution_count": 8,
   "metadata": {},
   "outputs": [
    {
     "name": "stdout",
     "output_type": "stream",
     "text": [
      "MAE train:  2.1210884353741495\n",
      "MSE train:  9.948425655976678\n",
      "RMSE train:  3.154112498941133\n",
      "r2:  0.9207035558322156\n",
      "MAE test:  2.4846938775510203\n",
      "MSE test:  10.756052532123961\n",
      "RMSE test:  3.2796421347647002\n",
      "r2:  0.8935017414165808\n"
     ]
    }
   ],
   "source": [
    "from sklearn import metrics\n",
    "\n",
    "print(\"MAE train: \", metrics.mean_absolute_error(y_train, gs.predict(X_train))) \n",
    "print(\"MSE train: \",metrics.mean_squared_error(y_train, gs.predict(X_train)))\n",
    "print(\"RMSE train: \",np.sqrt(metrics.mean_squared_error(y_train, gs.predict(X_train))))\n",
    "print(\"r2: \",np.sqrt(metrics.r2_score(y_train, gs.predict(X_train))))\n",
    "\n",
    "print(\"MAE test: \", metrics.mean_absolute_error(y_test, gs.predict(X_test))) \n",
    "print(\"MSE test: \",metrics.mean_squared_error(y_test, gs.predict(X_test)))\n",
    "print(\"RMSE test: \",np.sqrt(metrics.mean_squared_error(y_test, gs.predict(X_test))))\n",
    "print(\"r2: \",np.sqrt(metrics.r2_score(y_test, gs.predict(X_test))))"
   ]
  },
  {
   "cell_type": "code",
   "execution_count": 9,
   "metadata": {},
   "outputs": [
    {
     "data": {
      "image/png": "[encoded data removed]",
      "text/plain": [
       "<Figure size 432x288 with 1 Axes>"
      ]
     },
     "metadata": {
      "needs_background": "light"
     },
     "output_type": "display_data"
    }
   ],
   "source": [
    "%matplotlib inline\n",
    "import matplotlib.pyplot as plt\n",
    "plt.scatter(gs.predict(X_train),gs.predict(X_train)-y_train, c=\"b\", label=\"training data\")\n",
    "plt.scatter(gs.predict(X_test),gs.predict(X_test)-y_test, c=\"g\", label=\"hold out data\")\n",
    "plt.xlabel(\"Predicted Values\")\n",
    "plt.ylabel(\"Residuals\")\n",
    "plt.legend(loc=\"upper left\")\n",
    "plt.hlines(y=0, xmin=-10, xmax=50, color=\"r\")\n",
    "plt.xlim([-10,50])\n",
    "plt.show()"
   ]
  },
  {
   "cell_type": "code",
   "execution_count": null,
   "metadata": {},
   "outputs": [],
   "source": []
  },
  {
   "cell_type": "code",
   "execution_count": null,
   "metadata": {},
   "outputs": [],
   "source": []
  }
 ],
 "metadata": {
  "kernelspec": {
   "display_name": "Python 3 (ipykernel)",
   "language": "python",
   "name": "python3"
  },
  "language_info": {
   "codemirror_mode": {
    "name": "ipython",
    "version": 3
   },
   "file_extension": ".py",
   "mimetype": "text/x-python",
   "name": "python",
   "nbconvert_exporter": "python",
   "pygments_lexer": "ipython3",
   "version": "3.8.8"
  }
 },
 "nbformat": 4,
 "nbformat_minor": 2
}
