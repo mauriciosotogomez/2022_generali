{
 "cells": [
  {
   "cell_type": "markdown",
   "metadata": {},
   "source": [
    "# Decision Tree Regressor"
   ]
  },
  {
   "cell_type": "code",
   "execution_count": 1,
   "metadata": {},
   "outputs": [],
   "source": [
    "#Boston Housing Dataset: Load the boston dataset.\n",
    "from sklearn.datasets import load_boston\n",
    "boston = load_boston()\n",
    "\n",
    "#Creating feature and target arrays\n",
    "X, y = boston.data, boston.target\n",
    "columns = boston.feature_names\n",
    "\n",
    "\n",
    "import pandas as pd\n",
    "\n",
    "df_boston = pd.DataFrame(X,columns=boston.feature_names)\n",
    "df_boston['target'] = y\n"
   ]
  },
  {
   "cell_type": "code",
   "execution_count": 2,
   "metadata": {},
   "outputs": [],
   "source": [
    "#Predicting house value from a single feature\n",
    "#X_lstat = df_boston[['LSTAT']]\n",
    "#y = df_boston[['target']]"
   ]
  },
  {
   "cell_type": "code",
   "execution_count": 15,
   "metadata": {},
   "outputs": [
    {
     "name": "stdout",
     "output_type": "stream",
     "text": [
      "***GRIDSEARCH RESULTS***\n",
      "Best score: -3.031836 using {'max_depth': 4, 'min_samples_leaf': 10}\n",
      "-3.348852 (0.033839) with: {'max_depth': 3, 'min_samples_leaf': 10}\n",
      "-3.762332 (0.230438) with: {'max_depth': 3, 'min_samples_leaf': 20}\n",
      "-3.891418 (0.247444) with: {'max_depth': 3, 'min_samples_leaf': 30}\n",
      "-3.031836 (0.104468) with: {'max_depth': 4, 'min_samples_leaf': 10}\n",
      "-3.646390 (0.288280) with: {'max_depth': 4, 'min_samples_leaf': 20}\n",
      "-3.862111 (0.251452) with: {'max_depth': 4, 'min_samples_leaf': 30}\n"
     ]
    },
    {
     "data": {
      "text/plain": [
       "-2.5757882791651943"
      ]
     },
     "execution_count": 15,
     "metadata": {},
     "output_type": "execute_result"
    }
   ],
   "source": [
    "from sklearn.model_selection import train_test_split\n",
    "\n",
    "X=X[y<50]\n",
    "y=y[y<50]\n",
    "\n",
    "X_train, X_test, y_train, y_test = train_test_split(X,y,\n",
    "                                                    test_size=0.3,\n",
    "                                                    random_state=42)\n",
    "\n",
    "#DEFINE YOUR REGRESSOR and THE PARAMETERS GRID\n",
    "from sklearn.tree import DecisionTreeRegressor \n",
    "import numpy as np\n",
    "\n",
    "regressor = DecisionTreeRegressor()\n",
    "parameters = {\"max_depth\":[3,4], \n",
    "              \"min_samples_leaf\": [10,20,30]}\n",
    "\n",
    "#DEFINE YOUR GRIDSEARCH \n",
    "from sklearn.model_selection import GridSearchCV\n",
    "gs = GridSearchCV(regressor, parameters, cv=3, scoring ='neg_mean_absolute_error') \n",
    "gs = gs.fit(X_train,y_train)\n",
    "\n",
    "#summarize the results of your GRIDSEARCH\n",
    "print('***GRIDSEARCH RESULTS***')\n",
    "print(\"Best score: %f using %s\" % (gs.best_score_, gs.best_params_))\n",
    "means = gs.cv_results_['mean_test_score']\n",
    "stds = gs.cv_results_['std_test_score']\n",
    "params = gs.cv_results_['params']\n",
    "for mean, stdev, param in zip(means, stds, params):\n",
    "    print(\"%f (%f) with: %r\" % (mean, stdev, param))\n",
    "\n",
    "#Returns the coefficient of determination R^2 of the prediction.\n",
    "#Explained variance score: 1 is perfect prediction\n",
    "gs.score(X_test, y_test)"
   ]
  },
  {
   "cell_type": "code",
   "execution_count": 16,
   "metadata": {},
   "outputs": [
    {
     "data": {
      "text/html": [
       "<div>\n",
       "<style scoped>\n",
       "    .dataframe tbody tr th:only-of-type {\n",
       "        vertical-align: middle;\n",
       "    }\n",
       "\n",
       "    .dataframe tbody tr th {\n",
       "        vertical-align: top;\n",
       "    }\n",
       "\n",
       "    .dataframe thead th {\n",
       "        text-align: right;\n",
       "    }\n",
       "</style>\n",
       "<table border=\"1\" class=\"dataframe\">\n",
       "  <thead>\n",
       "    <tr style=\"text-align: right;\">\n",
       "      <th></th>\n",
       "      <th>0</th>\n",
       "    </tr>\n",
       "  </thead>\n",
       "  <tbody>\n",
       "    <tr>\n",
       "      <th>count</th>\n",
       "      <td>3.430000e+02</td>\n",
       "    </tr>\n",
       "    <tr>\n",
       "      <th>mean</th>\n",
       "      <td>-6.214659e-17</td>\n",
       "    </tr>\n",
       "    <tr>\n",
       "      <th>std</th>\n",
       "      <td>3.296126e+00</td>\n",
       "    </tr>\n",
       "    <tr>\n",
       "      <th>min</th>\n",
       "      <td>-1.495149e+01</td>\n",
       "    </tr>\n",
       "    <tr>\n",
       "      <th>25%</th>\n",
       "      <td>-1.751485e+00</td>\n",
       "    </tr>\n",
       "    <tr>\n",
       "      <th>50%</th>\n",
       "      <td>-8.235294e-02</td>\n",
       "    </tr>\n",
       "    <tr>\n",
       "      <th>75%</th>\n",
       "      <td>1.668702e+00</td>\n",
       "    </tr>\n",
       "    <tr>\n",
       "      <th>max</th>\n",
       "      <td>1.994000e+01</td>\n",
       "    </tr>\n",
       "  </tbody>\n",
       "</table>\n",
       "</div>"
      ],
      "text/plain": [
       "                  0\n",
       "count  3.430000e+02\n",
       "mean  -6.214659e-17\n",
       "std    3.296126e+00\n",
       "min   -1.495149e+01\n",
       "25%   -1.751485e+00\n",
       "50%   -8.235294e-02\n",
       "75%    1.668702e+00\n",
       "max    1.994000e+01"
      ]
     },
     "execution_count": 16,
     "metadata": {},
     "output_type": "execute_result"
    }
   ],
   "source": [
    "error_train=gs.predict(X_train)-y_train\n",
    "error_test=gs.predict(X_test)-y_test\n",
    "pd.DataFrame(error_train).describe()"
   ]
  },
  {
   "cell_type": "code",
   "execution_count": 17,
   "metadata": {
    "scrolled": true
   },
   "outputs": [
    {
     "data": {
      "image/png": "[encoded data removed]",
      "text/plain": [
       "<Figure size 432x288 with 1 Axes>"
      ]
     },
     "metadata": {
      "needs_background": "light"
     },
     "output_type": "display_data"
    }
   ],
   "source": [
    "%matplotlib inline\n",
    "import matplotlib.pyplot as plt\n",
    "plt.scatter(gs.predict(X_train),error_train, c=\"b\", label=\"training data\")\n",
    "plt.scatter(gs.predict(X_test),error_test, c=\"g\", label=\"test data\")\n",
    "plt.xlabel(\"Predicted Values\")\n",
    "plt.ylabel(\"Residuals\")\n",
    "plt.legend(loc=\"upper left\")\n",
    "plt.hlines(y=0, xmin=-1, xmax=50, color=\"r\")\n",
    "plt.show()"
   ]
  },
  {
   "cell_type": "code",
   "execution_count": 18,
   "metadata": {},
   "outputs": [
    {
     "name": "stdout",
     "output_type": "stream",
     "text": [
      "MAE train:  2.378778500380505\n",
      "MSE train:  10.832770897764664\n",
      "RMSE train:  3.2913175018166605\n",
      "r2:  0.9126480689430123\n",
      "MAE test:  2.5757882791651943\n",
      "MSE test:  12.686431842661595\n",
      "RMSE test:  3.561801769141791\n",
      "r2:  0.8708552451130508\n"
     ]
    }
   ],
   "source": [
    "from sklearn import metrics\n",
    "\n",
    "print(\"MAE train: \", metrics.mean_absolute_error(y_train, gs.predict(X_train))) \n",
    "print(\"MSE train: \",metrics.mean_squared_error(y_train, gs.predict(X_train)))\n",
    "print(\"RMSE train: \",np.sqrt(metrics.mean_squared_error(y_train, gs.predict(X_train))))\n",
    "print(\"r2: \",np.sqrt(metrics.r2_score(y_train, gs.predict(X_train))))\n",
    "\n",
    "print(\"MAE test: \", metrics.mean_absolute_error(y_test, gs.predict(X_test))) \n",
    "print(\"MSE test: \",metrics.mean_squared_error(y_test, gs.predict(X_test)))\n",
    "print(\"RMSE test: \",np.sqrt(metrics.mean_squared_error(y_test, gs.predict(X_test))))\n",
    "print(\"r2: \",np.sqrt(metrics.r2_score(y_test, gs.predict(X_test))))"
   ]
  },
  {
   "cell_type": "code",
   "execution_count": 20,
   "metadata": {},
   "outputs": [
    {
     "name": "stdout",
     "output_type": "stream",
     "text": [
      "|--- RM <= 6.80\n",
      "|   |--- LSTAT <= 14.40\n",
      "|   |   |--- RM <= 6.54\n",
      "|   |   |   |--- LSTAT <= 7.56\n",
      "|   |   |   |   |--- value: [23.79]\n",
      "|   |   |   |--- LSTAT >  7.56\n",
      "|   |   |   |   |--- value: [21.25]\n",
      "|   |   |--- RM >  6.54\n",
      "|   |   |   |--- LSTAT <= 5.83\n",
      "|   |   |   |   |--- value: [29.22]\n",
      "|   |   |   |--- LSTAT >  5.83\n",
      "|   |   |   |   |--- value: [25.86]\n",
      "|   |--- LSTAT >  14.40\n",
      "|   |   |--- CRIM <= 6.99\n",
      "|   |   |   |--- DIS <= 1.99\n",
      "|   |   |   |   |--- value: [14.75]\n",
      "|   |   |   |--- DIS >  1.99\n",
      "|   |   |   |   |--- value: [18.68]\n",
      "|   |   |--- CRIM >  6.99\n",
      "|   |   |   |--- CRIM <= 14.14\n",
      "|   |   |   |   |--- value: [13.19]\n",
      "|   |   |   |--- CRIM >  14.14\n",
      "|   |   |   |   |--- value: [9.51]\n",
      "|--- RM >  6.80\n",
      "|   |--- RM <= 7.44\n",
      "|   |   |--- LSTAT <= 9.10\n",
      "|   |   |   |--- LSTAT <= 5.49\n",
      "|   |   |   |   |--- value: [34.02]\n",
      "|   |   |   |--- LSTAT >  5.49\n",
      "|   |   |   |   |--- value: [30.22]\n",
      "|   |   |--- LSTAT >  9.10\n",
      "|   |   |   |--- value: [24.84]\n",
      "|   |--- RM >  7.44\n",
      "|   |   |--- value: [41.84]\n",
      "\n"
     ]
    }
   ],
   "source": [
    "from sklearn import tree\n",
    "r = tree.export_text(gs.best_estimator_,feature_names=boston.feature_names.tolist())\n",
    "print(r)\n"
   ]
  },
  {
   "cell_type": "code",
   "execution_count": null,
   "metadata": {},
   "outputs": [],
   "source": []
  },
  {
   "cell_type": "code",
   "execution_count": null,
   "metadata": {},
   "outputs": [],
   "source": []
  }
 ],
 "metadata": {
  "kernelspec": {
   "display_name": "Python 3 (ipykernel)",
   "language": "python",
   "name": "python3"
  },
  "language_info": {
   "codemirror_mode": {
    "name": "ipython",
    "version": 3
   },
   "file_extension": ".py",
   "mimetype": "text/x-python",
   "name": "python",
   "nbconvert_exporter": "python",
   "pygments_lexer": "ipython3",
   "version": "3.8.8"
  }
 },
 "nbformat": 4,
 "nbformat_minor": 2
}
