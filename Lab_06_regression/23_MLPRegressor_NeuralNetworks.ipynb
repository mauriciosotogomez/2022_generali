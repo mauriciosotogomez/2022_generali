{
 "cells": [
  {
   "cell_type": "markdown",
   "metadata": {},
   "source": [
    "# Multi-layer Perceptron Regression\n",
    "\n",
    "Class MLPRegressor implements a multi-layer perceptron (MLP) that trains using backpropagation with no activation function in the output layer, which can also be seen as using the identity function as activation function. Therefore, it uses the square error as the loss function, and the output is a set of continuous values."
   ]
  },
  {
   "cell_type": "code",
   "execution_count": 4,
   "metadata": {
    "scrolled": false
   },
   "outputs": [],
   "source": [
    "#Boston Housing Dataset: Load the boston dataset.\n",
    "from sklearn.datasets import load_boston\n",
    "boston = load_boston()\n",
    "\n",
    "#Creating feature and target arrays\n",
    "X, y = boston.data, boston.target\n",
    "columns = boston.feature_names\n",
    "\n",
    "X=X[y<50]\n",
    "y=y[y<50]\n",
    "\n",
    "from sklearn.preprocessing import StandardScaler\n",
    "scaler = StandardScaler(copy=False).fit(X)\n",
    "scaler.transform(X)\n",
    "\n",
    "'''\n",
    "Multi-layer Perceptron is sensitive to feature scaling, so it is highly recommended to scale your data. \n",
    "For example, scale each attribute on the input vector X to [0, 1] or [-1, +1], \n",
    "or standardize it to have mean 0 and variance 1. Note that you must apply the same scaling \n",
    "to the test set for meaningful results. You can use StandardScaler for standardization.\n",
    "'''\n",
    "\n",
    "from sklearn.model_selection import train_test_split\n",
    "\n",
    "X_train, X_test, y_train, y_test = train_test_split(X,y,\n",
    "                                                    test_size=0.3,\n",
    "                                                    random_state=42)\n",
    "\n",
    "#DEFINE YOUR REGRESSOR and THE PARAMETERS GRID\n",
    "from sklearn.neural_network import MLPRegressor\n",
    "import numpy as np\n",
    "\n",
    "regressor = MLPRegressor(random_state=0)\n",
    "parameters = {'hidden_layer_sizes': [(8),(10, 5), (20,10,5), (10,5,3)],\n",
    "              'solver' : ['sgd'],\n",
    "              #'batch_size': [20],\n",
    "              #'learning_rate' : ['constant'],\n",
    "              'alpha':10.0 ** -np.arange(-1, 3),\n",
    "              'max_iter':[10000]}\n",
    "\n",
    "#DEFINE YOUR GRIDSEARCH \n",
    "from sklearn.model_selection import GridSearchCV\n",
    "gs = GridSearchCV(regressor, parameters, cv=3, verbose = 0) #with no params it reduces to a CV\n",
    "\n",
    "gs = gs.fit(X_train,y_train)"
   ]
  },
  {
   "cell_type": "code",
   "execution_count": 5,
   "metadata": {},
   "outputs": [
    {
     "name": "stdout",
     "output_type": "stream",
     "text": [
      "***GRIDSEARCH RESULTS***\n",
      "Best score: 0.859687 using {'alpha': 10.0, 'hidden_layer_sizes': (20, 10, 5), 'max_iter': 10000, 'solver': 'sgd'}\n",
      "0.848818 (0.015251) with: {'alpha': 10.0, 'hidden_layer_sizes': 8, 'max_iter': 10000, 'solver': 'sgd'}\n",
      "0.839747 (0.013959) with: {'alpha': 10.0, 'hidden_layer_sizes': (10, 5), 'max_iter': 10000, 'solver': 'sgd'}\n",
      "0.859687 (0.012982) with: {'alpha': 10.0, 'hidden_layer_sizes': (20, 10, 5), 'max_iter': 10000, 'solver': 'sgd'}\n",
      "0.855412 (0.014930) with: {'alpha': 10.0, 'hidden_layer_sizes': (10, 5, 3), 'max_iter': 10000, 'solver': 'sgd'}\n",
      "0.851226 (0.013363) with: {'alpha': 1.0, 'hidden_layer_sizes': 8, 'max_iter': 10000, 'solver': 'sgd'}\n",
      "0.851503 (0.021260) with: {'alpha': 1.0, 'hidden_layer_sizes': (10, 5), 'max_iter': 10000, 'solver': 'sgd'}\n",
      "0.854210 (0.009407) with: {'alpha': 1.0, 'hidden_layer_sizes': (20, 10, 5), 'max_iter': 10000, 'solver': 'sgd'}\n",
      "0.841638 (0.019183) with: {'alpha': 1.0, 'hidden_layer_sizes': (10, 5, 3), 'max_iter': 10000, 'solver': 'sgd'}\n",
      "0.852969 (0.016345) with: {'alpha': 0.1, 'hidden_layer_sizes': 8, 'max_iter': 10000, 'solver': 'sgd'}\n",
      "0.839004 (0.026387) with: {'alpha': 0.1, 'hidden_layer_sizes': (10, 5), 'max_iter': 10000, 'solver': 'sgd'}\n",
      "0.859565 (0.013399) with: {'alpha': 0.1, 'hidden_layer_sizes': (20, 10, 5), 'max_iter': 10000, 'solver': 'sgd'}\n",
      "0.846393 (0.014220) with: {'alpha': 0.1, 'hidden_layer_sizes': (10, 5, 3), 'max_iter': 10000, 'solver': 'sgd'}\n",
      "0.852894 (0.016578) with: {'alpha': 0.01, 'hidden_layer_sizes': 8, 'max_iter': 10000, 'solver': 'sgd'}\n",
      "0.846795 (0.016359) with: {'alpha': 0.01, 'hidden_layer_sizes': (10, 5), 'max_iter': 10000, 'solver': 'sgd'}\n",
      "0.859108 (0.014142) with: {'alpha': 0.01, 'hidden_layer_sizes': (20, 10, 5), 'max_iter': 10000, 'solver': 'sgd'}\n",
      "0.840345 (0.014588) with: {'alpha': 0.01, 'hidden_layer_sizes': (10, 5, 3), 'max_iter': 10000, 'solver': 'sgd'}\n"
     ]
    },
    {
     "data": {
      "text/plain": [
       "0.887100658920065"
      ]
     },
     "execution_count": 5,
     "metadata": {},
     "output_type": "execute_result"
    }
   ],
   "source": [
    "#summarize the results of your GRIDSEARCH\n",
    "print('***GRIDSEARCH RESULTS***')\n",
    "print(\"Best score: %f using %s\" % (gs.best_score_, gs.best_params_))\n",
    "means = gs.cv_results_['mean_test_score']\n",
    "stds = gs.cv_results_['std_test_score']\n",
    "params = gs.cv_results_['params']\n",
    "for mean, stdev, param in zip(means, stds, params):\n",
    "    print(\"%f (%f) with: %r\" % (mean, stdev, param))\n",
    "\n",
    "#Returns the coefficient of determination R^2 of the prediction.\n",
    "#Explained variance score: 1 is perfect prediction\n",
    "gs.score(X_test, y_test)"
   ]
  },
  {
   "cell_type": "code",
   "execution_count": 6,
   "metadata": {},
   "outputs": [
    {
     "data": {
      "image/png": "[encoded data removed]",
      "text/plain": [
       "<Figure size 432x288 with 1 Axes>"
      ]
     },
     "metadata": {
      "needs_background": "light"
     },
     "output_type": "display_data"
    }
   ],
   "source": [
    "%matplotlib inline\n",
    "import matplotlib.pyplot as plt\n",
    "plt.scatter(gs.predict(X_train),gs.predict(X_train)-y_train, c=\"b\", label=\"training data\")\n",
    "plt.scatter(gs.predict(X_test),gs.predict(X_test)-y_test, c=\"g\", label=\"test data\")\n",
    "plt.xlabel(\"Predicted Values\")\n",
    "plt.ylabel(\"Residuals\")\n",
    "plt.legend(loc=\"upper left\")\n",
    "plt.hlines(y=0, xmin=-10, xmax=50, color=\"r\")\n",
    "plt.xlim([-10,50])\n",
    "plt.show()"
   ]
  },
  {
   "cell_type": "code",
   "execution_count": 8,
   "metadata": {},
   "outputs": [
    {
     "name": "stdout",
     "output_type": "stream",
     "text": [
      "MAE train:  1.395614654946042\n",
      "MSE train:  3.656461408076597\n",
      "RMSE train:  1.9121875975114464\n",
      "r2:  0.9713941037650531\n",
      "MAE test:  1.769544358953724\n",
      "MSE test:  5.928078413460418\n",
      "RMSE test:  2.434764549902191\n",
      "r2:  0.9418602119848066\n"
     ]
    }
   ],
   "source": [
    "from sklearn import metrics\n",
    "\n",
    "print(\"MAE train: \", metrics.mean_absolute_error(y_train, gs.predict(X_train))) \n",
    "print(\"MSE train: \",metrics.mean_squared_error(y_train, gs.predict(X_train)))\n",
    "print(\"RMSE train: \",np.sqrt(metrics.mean_squared_error(y_train, gs.predict(X_train))))\n",
    "print(\"r2: \",np.sqrt(metrics.r2_score(y_train, gs.predict(X_train))))\n",
    "\n",
    "print(\"MAE test: \", metrics.mean_absolute_error(y_test, gs.predict(X_test))) \n",
    "print(\"MSE test: \",metrics.mean_squared_error(y_test, gs.predict(X_test)))\n",
    "print(\"RMSE test: \",np.sqrt(metrics.mean_squared_error(y_test, gs.predict(X_test))))\n",
    "print(\"r2: \",np.sqrt(metrics.r2_score(y_test, gs.predict(X_test))))"
   ]
  },
  {
   "cell_type": "code",
   "execution_count": null,
   "metadata": {},
   "outputs": [],
   "source": [
    "import pandas as pd \n",
    "\n",
    "error_train=gs.predict(X_train)-y_train\n",
    "error_test=gs.predict(X_test)-y_test\n",
    "\n",
    "pd.DataFrame(error_train).describe()"
   ]
  },
  {
   "cell_type": "code",
   "execution_count": null,
   "metadata": {},
   "outputs": [],
   "source": [
    "nb_error_train = np.array(error_train).flatten()\n",
    "\n",
    "error_train = np.array(error_train).reshape(-1,1)\n",
    "scaled_error_train= StandardScaler(copy=False).fit(error_train).transform(error_train).flatten()"
   ]
  },
  {
   "cell_type": "code",
   "execution_count": null,
   "metadata": {},
   "outputs": [],
   "source": [
    "import numpy as np\n",
    "import scipy \n",
    "import statsmodels.api as sm\n",
    "from statsmodels.graphics.gofplots import qqplot_2samples\n",
    "from matplotlib import pyplot as plt\n",
    "import seaborn as sns\n",
    "\n",
    "\n",
    "# We test a exponential distribution\n",
    "dist = getattr(scipy.stats, 'norm')\n",
    "param = dist.fit(nb_error_train)\n",
    "\n",
    "err_mean=param[-2]\n",
    "err_std=param[-1]\n",
    "\n",
    "# We generate a sample of size  len(mr_scaled) of data distributed according to distribution dist\n",
    "# The function rvs generates a sample with distribution dist with mean loc and std scale\n",
    "test_dist = dist.rvs(*param[0:-2],loc=param[-2], scale=param[-1],size = len(nb_error_train))\n",
    "\n",
    "\n",
    "# plot the distribution and compare with a normal\n",
    "\n",
    "ax = sns.histplot(nb_error_train, stat='density')\n",
    "\n",
    "# calculate the pdf\n",
    "x0, x1 = ax.get_xlim()  # extract the endpoints for the x-axis\n",
    "x_pdf = np.linspace(x0, x1, 100)\n",
    "y_pdf = scipy.stats.norm.pdf(x_pdf, loc=err_mean, scale=err_std)\n",
    "\n",
    "ax.plot(x_pdf, y_pdf, 'r', lw=2, label='normal')                                                   \n",
    "ax.legend() \n",
    "\n",
    "#plt.hist(nb_error_train,alpha=.3, density=True,bins='auto')\n",
    "#plt.hist(test_dist,alpha=.3, density=True,bins='auto')\n",
    "#plt.show()"
   ]
  },
  {
   "cell_type": "code",
   "execution_count": null,
   "metadata": {},
   "outputs": [],
   "source": []
  }
 ],
 "metadata": {
  "kernelspec": {
   "display_name": "Python 3 (ipykernel)",
   "language": "python",
   "name": "python3"
  },
  "language_info": {
   "codemirror_mode": {
    "name": "ipython",
    "version": 3
   },
   "file_extension": ".py",
   "mimetype": "text/x-python",
   "name": "python",
   "nbconvert_exporter": "python",
   "pygments_lexer": "ipython3",
   "version": "3.8.8"
  }
 },
 "nbformat": 4,
 "nbformat_minor": 2
}
