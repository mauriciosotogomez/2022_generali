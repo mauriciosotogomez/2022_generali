{
 "cells": [
  {
   "cell_type": "markdown",
   "metadata": {},
   "source": [
    "# Word2vec"
   ]
  },
  {
   "cell_type": "code",
   "execution_count": 1,
   "metadata": {},
   "outputs": [],
   "source": [
    "sentences = [['this', 'is', 'a', 'first', 'example', 'of', 'text'],\n",
    "    ['this', 'is', 'the', 'second', 'example'],\n",
    "    ['yet', 'another', 'example'],\n",
    "    ['one', 'more', 'example'],\n",
    "    ['and', 'the', 'final', 'example']]"
   ]
  },
  {
   "cell_type": "code",
   "execution_count": 3,
   "metadata": {
    "scrolled": true
   },
   "outputs": [
    {
     "name": "stdout",
     "output_type": "stream",
     "text": [
      "Word2Vec(vocab=15, vector_size=10, alpha=0.025)\n"
     ]
    }
   ],
   "source": [
    "from gensim.models import Word2Vec\n",
    "\n",
    "model = Word2Vec(sentences, min_count=1, vector_size=10,window=3)\n",
    "print(model)\n"
   ]
  },
  {
   "cell_type": "code",
   "execution_count": 4,
   "metadata": {},
   "outputs": [
    {
     "name": "stdout",
     "output_type": "stream",
     "text": [
      "['example', 'the', 'is', 'this', 'final', 'and', 'more', 'one', 'another', 'yet', 'second', 'text', 'of', 'first', 'a']\n"
     ]
    }
   ],
   "source": [
    "words = list(model.wv.key_to_index)\n",
    "print(words)\n",
    "\n"
   ]
  },
  {
   "cell_type": "code",
   "execution_count": 6,
   "metadata": {},
   "outputs": [
    {
     "name": "stdout",
     "output_type": "stream",
     "text": [
      "v(final)=[-0.09604949  0.05007555 -0.08759888 -0.04390896 -0.00036679 -0.00297186\n",
      " -0.07661466  0.09617318  0.04981884  0.09234031]\n"
     ]
    }
   ],
   "source": [
    "print(\"v(final)=\"+str(model.wv['final']))\n",
    "\n",
    "# save model\n",
    "model.save('model.bin')"
   ]
  },
  {
   "cell_type": "code",
   "execution_count": 7,
   "metadata": {},
   "outputs": [
    {
     "name": "stdout",
     "output_type": "stream",
     "text": [
      "Word2Vec(vocab=15, vector_size=10, alpha=0.025)\n"
     ]
    }
   ],
   "source": [
    "# load model\n",
    "new_model = Word2Vec.load('model.bin')\n",
    "print(new_model)"
   ]
  },
  {
   "cell_type": "code",
   "execution_count": 8,
   "metadata": {},
   "outputs": [],
   "source": [
    "X = new_model.wv[new_model.wv.key_to_index]"
   ]
  },
  {
   "cell_type": "code",
   "execution_count": 9,
   "metadata": {},
   "outputs": [
    {
     "data": {
      "text/plain": [
       "(15, 10)"
      ]
     },
     "execution_count": 9,
     "metadata": {},
     "output_type": "execute_result"
    }
   ],
   "source": [
    "X.shape"
   ]
  },
  {
   "cell_type": "code",
   "execution_count": 10,
   "metadata": {},
   "outputs": [
    {
     "data": {
      "text/plain": [
       "array([[-0.00536121,  0.00236402,  0.05103302,  0.09009207, -0.09302408,\n",
       "        -0.07116576,  0.06458592,  0.08972262, -0.05015039, -0.03763298],\n",
       "       [ 0.07380505, -0.01533473, -0.04536615,  0.06554051, -0.0486016 ,\n",
       "        -0.01816018,  0.0287658 ,  0.00991874, -0.08285215, -0.09448819],\n",
       "       [ 0.07311766,  0.05070262,  0.06757693,  0.00762866,  0.06350889,\n",
       "        -0.03405366, -0.00946403,  0.05768573, -0.07521639, -0.03936105],\n",
       "       [-0.07511582, -0.00930042,  0.09538119, -0.07319167, -0.0233377 ,\n",
       "        -0.01937742,  0.08077435, -0.05930896,  0.00045161, -0.04753735],\n",
       "       [-0.09604949,  0.05007555, -0.08759888, -0.04390896, -0.00036679,\n",
       "        -0.00297186, -0.07661466,  0.09617318,  0.04981884,  0.09234031],\n",
       "       [-0.08158865,  0.04496669, -0.04137858,  0.00824115,  0.08498045,\n",
       "        -0.04462619,  0.04517367, -0.06785102, -0.03548497,  0.09399009],\n",
       "       [-0.01577069,  0.00322178, -0.04140323, -0.07682775, -0.01507944,\n",
       "         0.02469393, -0.00886958,  0.05533724, -0.0274333 ,  0.02258924],\n",
       "       [ 0.05456485,  0.0834673 , -0.01453483, -0.09208295,  0.04371158,\n",
       "         0.00571616,  0.07442698, -0.00813948, -0.02638379, -0.08754075],\n",
       "       [-0.00856557,  0.02826562,  0.05401428,  0.07052656, -0.05703123,\n",
       "         0.01858819,  0.06088863, -0.04798052, -0.03107262,  0.06797628],\n",
       "       [ 0.01631474,  0.00189917,  0.03473637,  0.00217776,  0.09618826,\n",
       "         0.05060603, -0.08917391, -0.07041562,  0.00901456,  0.06392534],\n",
       "       [-0.08619688,  0.03665738,  0.05189884,  0.05741937,  0.07466917,\n",
       "        -0.06167676,  0.01105614,  0.06047282, -0.02840052, -0.06173522],\n",
       "       [-0.00410223, -0.0836895 , -0.05600014,  0.07104538,  0.0335254 ,\n",
       "         0.07225668,  0.06800246,  0.07530741, -0.03789156, -0.00561807],\n",
       "       [ 0.02348375, -0.04519033,  0.08388732, -0.09858165,  0.06764641,\n",
       "         0.02914417, -0.04932833,  0.04398186, -0.01739576,  0.06711383],\n",
       "       [ 0.0996485 , -0.04362445, -0.00599339, -0.05695639,  0.03850823,\n",
       "         0.02786627,  0.06891076,  0.06101096,  0.09538496,  0.09273417],\n",
       "       [ 0.07898068, -0.06989505, -0.09155865, -0.00355754, -0.03099842,\n",
       "         0.07894316,  0.05938573, -0.01545663,  0.01510963,  0.0179004 ]],\n",
       "      dtype=float32)"
      ]
     },
     "execution_count": 10,
     "metadata": {},
     "output_type": "execute_result"
    }
   ],
   "source": [
    "X"
   ]
  },
  {
   "cell_type": "code",
   "execution_count": 11,
   "metadata": {},
   "outputs": [
    {
     "data": {
      "image/png": "[encoded data removed]",
      "text/plain": [
       "<Figure size 432x288 with 1 Axes>"
      ]
     },
     "metadata": {
      "needs_background": "light"
     },
     "output_type": "display_data"
    }
   ],
   "source": [
    "import numpy as np\n",
    "from sklearn.decomposition import PCA\n",
    "import matplotlib.pyplot as plt\n",
    "%matplotlib inline\n",
    "\n",
    "pca = PCA(n_components=2)\n",
    "result = pca.fit_transform(X)\n",
    "plt.scatter(result[:, 0], result[:, 1])\n",
    "words = list(model.wv.key_to_index)\n",
    "for i, word in enumerate(words):\n",
    "    plt.annotate(word, xy=(result[i, 0], result[i, 1]))"
   ]
  },
  {
   "cell_type": "code",
   "execution_count": 12,
   "metadata": {},
   "outputs": [],
   "source": [
    "import gensim.downloader as api"
   ]
  },
  {
   "cell_type": "code",
   "execution_count": 13,
   "metadata": {},
   "outputs": [],
   "source": [
    "corpus = api.load('text8')"
   ]
  },
  {
   "cell_type": "code",
   "execution_count": 14,
   "metadata": {},
   "outputs": [
    {
     "data": {
      "text/plain": [
       "text8.Dataset"
      ]
     },
     "execution_count": 14,
     "metadata": {},
     "output_type": "execute_result"
    }
   ],
   "source": [
    "type(corpus)\n"
   ]
  },
  {
   "cell_type": "code",
   "execution_count": 15,
   "metadata": {},
   "outputs": [],
   "source": [
    "from gensim.models.word2vec import Word2Vec\n",
    "\n",
    "model8= Word2Vec(corpus, vector_size=100)"
   ]
  },
  {
   "cell_type": "code",
   "execution_count": 19,
   "metadata": {},
   "outputs": [],
   "source": [
    "import pandas as pd\n",
    "X8 = pd.DataFrame(model8.wv[model8.wv.key_to_index])\n",
    "X8['vocab']=list(model8.wv.key_to_index)\n",
    "\n",
    "X8_sample = X8.sample(100)"
   ]
  },
  {
   "cell_type": "code",
   "execution_count": 20,
   "metadata": {},
   "outputs": [
    {
     "data": {
      "image/png": "[encoded data removed]",
      "text/plain": [
       "<Figure size 360x360 with 1 Axes>"
      ]
     },
     "metadata": {
      "needs_background": "light"
     },
     "output_type": "display_data"
    }
   ],
   "source": [
    "import random\n",
    "pca = PCA(n_components=2)\n",
    "result = pca.fit_transform(X8_sample.iloc[:,:-1].apply(lambda x: x*np.random.uniform(low=3, high=4) ))\n",
    "\n",
    "fig, ax = plt.subplots(figsize = (5, 5))\n",
    "ax.scatter(result[:, 0], result[:, 1], alpha=0.7)\n",
    "words = list(X8_sample.iloc[:,-1])\n",
    "\n",
    "for i, word in enumerate(words):\n",
    "    plt.annotate(word, xy=(result[i, 0], result[i, 1]))"
   ]
  },
  {
   "cell_type": "code",
   "execution_count": 21,
   "metadata": {
    "scrolled": true
   },
   "outputs": [
    {
     "data": {
      "text/plain": [
       "array([-0.5320696 , -0.68951446,  2.237403  , -0.5746643 , -0.3645877 ,\n",
       "        0.54958004, -0.8033184 , -1.9089227 , -1.4995077 , -1.4668068 ,\n",
       "        0.49948585, -2.1621454 ,  0.40922883,  1.3033518 , -2.197585  ,\n",
       "        3.1335814 ,  2.1337485 ,  0.46260008,  0.13282226, -1.08218   ,\n",
       "       -0.38964066, -1.4402139 , -0.07919767, -1.6503843 , -1.2923954 ,\n",
       "       -0.37552646, -0.05470357,  0.18168928, -0.08844481,  0.04676277,\n",
       "        2.016196  ,  0.1312163 , -0.10781731, -0.0369694 ,  1.2123443 ,\n",
       "        0.91807973,  2.1695333 , -0.3670523 , -0.7854999 , -0.34920198,\n",
       "        0.58048475, -0.54293996, -0.6469073 ,  2.2745383 ,  2.8397784 ,\n",
       "       -0.13660106,  0.14529577, -1.2252648 , -1.2392982 ,  0.67297053,\n",
       "       -1.3001326 ,  0.00483577, -1.1725768 ,  2.589812  ,  0.4543411 ,\n",
       "       -0.6556526 ,  0.09678929,  1.3901948 , -2.2088885 ,  0.39329726,\n",
       "        0.7502626 , -0.71879125, -0.32043785,  2.9537237 , -0.96885884,\n",
       "       -1.9435899 , -0.6660358 , -1.7045591 ,  1.5616316 , -1.740192  ,\n",
       "       -0.33999214,  0.3636851 , -0.30541116,  0.71971804, -1.3981575 ,\n",
       "        0.6014224 ,  2.4746394 ,  0.45921785, -0.24051471,  1.6749854 ,\n",
       "       -0.25678107, -1.0661545 , -1.3273554 ,  0.02766082, -1.271336  ,\n",
       "       -0.22796875, -1.704166  ,  1.0074744 ,  1.1459893 , -0.5420049 ,\n",
       "        0.08085003,  0.19706467, -0.47909757,  0.72180194,  3.1778278 ,\n",
       "        0.25656882,  0.87528026, -2.3461394 , -1.1366949 ,  1.8783488 ],\n",
       "      dtype=float32)"
      ]
     },
     "execution_count": 21,
     "metadata": {},
     "output_type": "execute_result"
    }
   ],
   "source": [
    "model8.wv['tree']"
   ]
  },
  {
   "cell_type": "code",
   "execution_count": null,
   "metadata": {},
   "outputs": [],
   "source": [
    "print(model8.wv.most_similar('tree'))"
   ]
  },
  {
   "cell_type": "code",
   "execution_count": 31,
   "metadata": {},
   "outputs": [
    {
     "name": "stdout",
     "output_type": "stream",
     "text": [
      "[('prince', 0.7349230647087097), ('queen', 0.6996397376060486), ('kings', 0.6904436945915222), ('pharaoh', 0.6875544786453247), ('throne', 0.6736594438552856), ('constantine', 0.669765055179596), ('sultan', 0.6687989234924316), ('emperor', 0.6660114526748657), ('regent', 0.660758376121521), ('aragon', 0.6606883406639099)]\n"
     ]
    }
   ],
   "source": [
    "print(model8.wv.most_similar('king'))"
   ]
  },
  {
   "cell_type": "code",
   "execution_count": 24,
   "metadata": {},
   "outputs": [
    {
     "name": "stdout",
     "output_type": "stream",
     "text": [
      "cereal\n"
     ]
    }
   ],
   "source": [
    "print(model8.wv.doesnt_match(\"breakfast cereal dinner lunch\".split()))"
   ]
  },
  {
   "cell_type": "markdown",
   "metadata": {},
   "source": [
    "# Analogies"
   ]
  },
  {
   "cell_type": "code",
   "execution_count": 23,
   "metadata": {},
   "outputs": [
    {
     "name": "stdout",
     "output_type": "stream",
     "text": [
      "[('queen', 0.6474851369857788), ('empress', 0.6153088808059692), ('son', 0.6039918065071106)]\n"
     ]
    }
   ],
   "source": [
    "#v(king)-v(man)+v(woman)\n",
    "print(model8.wv.most_similar(positive=['king', 'woman'], negative=['man'], topn=3))"
   ]
  },
  {
   "cell_type": "code",
   "execution_count": 24,
   "metadata": {},
   "outputs": [
    {
     "name": "stdout",
     "output_type": "stream",
     "text": [
      "[('isuzu', 0.7054175138473511), ('scuderia', 0.6983029246330261), ('chevrolet', 0.6726912260055542)]\n"
     ]
    }
   ],
   "source": [
    "print(model8.wv.most_similar(positive=['renault', 'italy'], negative=['france'], topn=3))\n"
   ]
  },
  {
   "cell_type": "code",
   "execution_count": 29,
   "metadata": {},
   "outputs": [
    {
     "name": "stdout",
     "output_type": "stream",
     "text": [
      "[('venice', 0.7704076170921326), ('florence', 0.7653753757476807), ('vienna', 0.7322647571563721)]\n"
     ]
    }
   ],
   "source": [
    "#v(paris)-v(france)+v(germany)=v(x)\n",
    "\n",
    "print(model8.wv.most_similar(positive=['paris','italy'], negative=['france'], topn=3))\n"
   ]
  },
  {
   "cell_type": "code",
   "execution_count": 30,
   "metadata": {},
   "outputs": [
    {
     "name": "stdout",
     "output_type": "stream",
     "text": [
      "[('dj', 0.6460015177726746), ('goldmine', 0.5922549962997437), ('britney', 0.5876200199127197)]\n"
     ]
    }
   ],
   "source": [
    "print(model8.wv.most_similar(positive=['beatles', 'usa'], negative=['england'], topn=3))"
   ]
  },
  {
   "cell_type": "code",
   "execution_count": 33,
   "metadata": {},
   "outputs": [
    {
     "data": {
      "text/plain": [
       "[('juice', 0.7299550175666809),\n",
       " ('grape', 0.6932923197746277),\n",
       " ('milk', 0.6913902163505554),\n",
       " ('meat', 0.6755573749542236),\n",
       " ('honey', 0.6751770973205566),\n",
       " ('vegetable', 0.6732913851737976),\n",
       " ('apples', 0.66573566198349),\n",
       " ('coffee', 0.6634423732757568),\n",
       " ('beans', 0.6624413132667542),\n",
       " ('chocolate', 0.6544009447097778)]"
      ]
     },
     "execution_count": 33,
     "metadata": {},
     "output_type": "execute_result"
    }
   ],
   "source": [
    "model8.wv.most_similar(['apple','fruit'])"
   ]
  },
  {
   "cell_type": "markdown",
   "metadata": {},
   "source": [
    "##  Loading pre-trained models"
   ]
  },
  {
   "cell_type": "code",
   "execution_count": 1,
   "metadata": {},
   "outputs": [],
   "source": [
    "# Load pretrained model GoogleNews-vectors-negative300.bin.gz\n",
    "# https://drive.google.com/file/d/0B7XkCwpI5KDYNlNUTTlSS21pQmM/edit?usp=sharing\n",
    "\n",
    "from gensim.models import KeyedVectors\n",
    "model = KeyedVectors.load_word2vec_format('GoogleNews-vectors-negative300.bin', binary=True)"
   ]
  },
  {
   "cell_type": "code",
   "execution_count": 2,
   "metadata": {},
   "outputs": [
    {
     "name": "stdout",
     "output_type": "stream",
     "text": [
      "[('trees', 0.829312264919281), ('pine_tree', 0.7622087001800537), ('oak_tree', 0.731893002986908), ('evergreen_tree', 0.6926872730255127), ('fir_tree', 0.6917218565940857), ('willow_tree', 0.6845874786376953), ('pine_trees', 0.6824266910552979), ('maple_tree', 0.6803498864173889), ('sycamore_tree', 0.6681811213493347), ('tress', 0.6547872424125671)]\n"
     ]
    }
   ],
   "source": [
    "print(model.most_similar('tree'))"
   ]
  },
  {
   "cell_type": "code",
   "execution_count": 3,
   "metadata": {},
   "outputs": [
    {
     "name": "stdout",
     "output_type": "stream",
     "text": [
      "[('queen', 0.7118193507194519), ('monarch', 0.6189674735069275), ('princess', 0.5902431011199951)]\n"
     ]
    }
   ],
   "source": [
    "print(model.most_similar(positive=['king', 'woman'], negative=['man'], topn=3))"
   ]
  },
  {
   "cell_type": "code",
   "execution_count": 27,
   "metadata": {},
   "outputs": [
    {
     "ename": "AttributeError",
     "evalue": "'Word2Vec' object has no attribute 'most_similar'",
     "output_type": "error",
     "traceback": [
      "\u001b[0;31m---------------------------------------------------------------------------\u001b[0m",
      "\u001b[0;31mAttributeError\u001b[0m                            Traceback (most recent call last)",
      "\u001b[0;32m<ipython-input-27-ae14ea5ef6f7>\u001b[0m in \u001b[0;36m<module>\u001b[0;34m\u001b[0m\n\u001b[0;32m----> 1\u001b[0;31m \u001b[0mprint\u001b[0m\u001b[0;34m(\u001b[0m\u001b[0mmodel\u001b[0m\u001b[0;34m.\u001b[0m\u001b[0mmost_similar\u001b[0m\u001b[0;34m(\u001b[0m\u001b[0mpositive\u001b[0m\u001b[0;34m=\u001b[0m\u001b[0;34m[\u001b[0m\u001b[0;34m'paris'\u001b[0m\u001b[0;34m,\u001b[0m\u001b[0;34m'chile'\u001b[0m\u001b[0;34m]\u001b[0m\u001b[0;34m,\u001b[0m \u001b[0mnegative\u001b[0m\u001b[0;34m=\u001b[0m\u001b[0;34m[\u001b[0m\u001b[0;34m'france'\u001b[0m\u001b[0;34m]\u001b[0m\u001b[0;34m,\u001b[0m \u001b[0mtopn\u001b[0m\u001b[0;34m=\u001b[0m\u001b[0;36m3\u001b[0m\u001b[0;34m)\u001b[0m\u001b[0;34m)\u001b[0m\u001b[0;34m\u001b[0m\u001b[0;34m\u001b[0m\u001b[0m\n\u001b[0m",
      "\u001b[0;31mAttributeError\u001b[0m: 'Word2Vec' object has no attribute 'most_similar'"
     ]
    }
   ],
   "source": [
    "print(model.most_similar(positive=['paris','chile'], negative=['france'], topn=3))\n"
   ]
  },
  {
   "cell_type": "code",
   "execution_count": 8,
   "metadata": {},
   "outputs": [
    {
     "name": "stdout",
     "output_type": "stream",
     "text": [
      "[('Monarchy', 0.4897083640098572), ('constitutional_monarchy', 0.48723939061164856), ('royalists', 0.45945391058921814)]\n"
     ]
    }
   ],
   "source": [
    "print(model.most_similar(positive=['germany', 'monarchy'], negative=['netherlands'], topn=3))\n"
   ]
  },
  {
   "cell_type": "code",
   "execution_count": 9,
   "metadata": {},
   "outputs": [
    {
     "name": "stdout",
     "output_type": "stream",
     "text": [
      "[('radiohead', 0.5180865526199341), ('metallica', 0.511135458946228), ('quinto', 0.5088788866996765)]\n"
     ]
    }
   ],
   "source": [
    "print(model.most_similar(positive=['italy', 'beatles'], negative=['england'], topn=3))\n"
   ]
  },
  {
   "cell_type": "markdown",
   "metadata": {},
   "source": [
    "## Glove"
   ]
  },
  {
   "cell_type": "code",
   "execution_count": 1,
   "metadata": {},
   "outputs": [
    {
     "name": "stderr",
     "output_type": "stream",
     "text": [
      "<ipython-input-1-3c74b85749f5>:7: DeprecationWarning: Call to deprecated `glove2word2vec` (KeyedVectors.load_word2vec_format(.., binary=False, no_header=True) loads GLoVE text vectors.).\n",
      "  _ = glove2word2vec(glove_file, tmp_file)\n"
     ]
    }
   ],
   "source": [
    "from gensim.test.utils import datapath, get_tmpfile\n",
    "from gensim.models import KeyedVectors\n",
    "from gensim.scripts.glove2word2vec import glove2word2vec\n",
    "\n",
    "glove_file = 'glove.42B.300d.txt'\n",
    "tmp_file = get_tmpfile(\"test_word2vec.txt\")\n",
    "_ = glove2word2vec(glove_file, tmp_file)\n",
    "\n",
    "model = KeyedVectors.load_word2vec_format(tmp_file)"
   ]
  },
  {
   "cell_type": "code",
   "execution_count": 3,
   "metadata": {},
   "outputs": [
    {
     "name": "stdout",
     "output_type": "stream",
     "text": [
      "[('trees', 0.834145724773407), ('branches', 0.6109411120414734), ('leaf', 0.6104052066802979), ('pine', 0.6100702881813049), ('forest', 0.5894955396652222), ('garden', 0.5828164219856262), ('vine', 0.5765969157218933), ('branch', 0.5740603804588318), ('flower', 0.5736389756202698), ('willow', 0.5727055668830872)]\n"
     ]
    }
   ],
   "source": [
    "print(model.most_similar('tree'))"
   ]
  },
  {
   "cell_type": "code",
   "execution_count": 4,
   "metadata": {},
   "outputs": [
    {
     "data": {
      "text/plain": [
       "[('queen', 0.7833545207977295),\n",
       " ('prince', 0.5993281006813049),\n",
       " ('princess', 0.5823437571525574),\n",
       " ('elizabeth', 0.553723931312561),\n",
       " ('daughter', 0.544403076171875),\n",
       " ('mother', 0.5348593592643738),\n",
       " ('mary', 0.5327834486961365),\n",
       " ('lady', 0.5133953094482422),\n",
       " ('catherine', 0.5069340467453003),\n",
       " ('her', 0.4996805489063263)]"
      ]
     },
     "execution_count": 4,
     "metadata": {},
     "output_type": "execute_result"
    }
   ],
   "source": [
    "model.most_similar(positive=['woman', 'king'], negative=['man'])"
   ]
  },
  {
   "cell_type": "code",
   "execution_count": null,
   "metadata": {},
   "outputs": [],
   "source": []
  }
 ],
 "metadata": {
  "kernelspec": {
   "display_name": "Python 3 (ipykernel)",
   "language": "python",
   "name": "python3"
  },
  "language_info": {
   "codemirror_mode": {
    "name": "ipython",
    "version": 3
   },
   "file_extension": ".py",
   "mimetype": "text/x-python",
   "name": "python",
   "nbconvert_exporter": "python",
   "pygments_lexer": "ipython3",
   "version": "3.8.8"
  },
  "toc": {
   "nav_menu": {},
   "number_sections": true,
   "sideBar": true,
   "skip_h1_title": false,
   "toc_cell": false,
   "toc_position": {},
   "toc_section_display": "block",
   "toc_window_display": false
  },
  "varInspector": {
   "cols": {
    "lenName": 16,
    "lenType": 16,
    "lenVar": 40
   },
   "kernels_config": {
    "python": {
     "delete_cmd_postfix": "",
     "delete_cmd_prefix": "del ",
     "library": "var_list.py",
     "varRefreshCmd": "print(var_dic_list())"
    },
    "r": {
     "delete_cmd_postfix": ") ",
     "delete_cmd_prefix": "rm(",
     "library": "var_list.r",
     "varRefreshCmd": "cat(var_dic_list()) "
    }
   },
   "types_to_exclude": [
    "module",
    "function",
    "builtin_function_or_method",
    "instance",
    "_Feature"
   ],
   "window_display": false
  }
 },
 "nbformat": 4,
 "nbformat_minor": 2
}
