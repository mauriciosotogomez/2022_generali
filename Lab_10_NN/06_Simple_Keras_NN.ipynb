{
 "cells": [
  {
   "cell_type": "markdown",
   "metadata": {},
   "source": [
    "# Create a simple NN with Keras"
   ]
  },
  {
   "cell_type": "code",
   "execution_count": 1,
   "metadata": {
    "colab": {
     "base_uri": "https://localhost:8080/",
     "height": 197
    },
    "colab_type": "code",
    "executionInfo": {
     "elapsed": 843,
     "status": "ok",
     "timestamp": 1571065640210,
     "user": {
      "displayName": "ai school",
      "photoUrl": "",
      "userId": "08125262134229048618"
     },
     "user_tz": -120
    },
    "id": "kXsT2UpUzOx0",
    "outputId": "1aa9d367-169d-4f1a-d9a3-d70b7e30f2d1"
   },
   "outputs": [
    {
     "data": {
      "text/html": [
       "<div>\n",
       "<style scoped>\n",
       "    .dataframe tbody tr th:only-of-type {\n",
       "        vertical-align: middle;\n",
       "    }\n",
       "\n",
       "    .dataframe tbody tr th {\n",
       "        vertical-align: top;\n",
       "    }\n",
       "\n",
       "    .dataframe thead th {\n",
       "        text-align: right;\n",
       "    }\n",
       "</style>\n",
       "<table border=\"1\" class=\"dataframe\">\n",
       "  <thead>\n",
       "    <tr style=\"text-align: right;\">\n",
       "      <th></th>\n",
       "      <th>timespreg</th>\n",
       "      <th>gluctol</th>\n",
       "      <th>diaspb</th>\n",
       "      <th>triceps</th>\n",
       "      <th>insulin</th>\n",
       "      <th>massindex</th>\n",
       "      <th>pedigree</th>\n",
       "      <th>age</th>\n",
       "      <th>target</th>\n",
       "    </tr>\n",
       "  </thead>\n",
       "  <tbody>\n",
       "    <tr>\n",
       "      <th>0</th>\n",
       "      <td>6</td>\n",
       "      <td>148</td>\n",
       "      <td>72</td>\n",
       "      <td>35</td>\n",
       "      <td>0</td>\n",
       "      <td>33.6</td>\n",
       "      <td>0.627</td>\n",
       "      <td>50</td>\n",
       "      <td>1</td>\n",
       "    </tr>\n",
       "    <tr>\n",
       "      <th>1</th>\n",
       "      <td>1</td>\n",
       "      <td>85</td>\n",
       "      <td>66</td>\n",
       "      <td>29</td>\n",
       "      <td>0</td>\n",
       "      <td>26.6</td>\n",
       "      <td>0.351</td>\n",
       "      <td>31</td>\n",
       "      <td>0</td>\n",
       "    </tr>\n",
       "    <tr>\n",
       "      <th>2</th>\n",
       "      <td>8</td>\n",
       "      <td>183</td>\n",
       "      <td>64</td>\n",
       "      <td>0</td>\n",
       "      <td>0</td>\n",
       "      <td>23.3</td>\n",
       "      <td>0.672</td>\n",
       "      <td>32</td>\n",
       "      <td>1</td>\n",
       "    </tr>\n",
       "    <tr>\n",
       "      <th>3</th>\n",
       "      <td>1</td>\n",
       "      <td>89</td>\n",
       "      <td>66</td>\n",
       "      <td>23</td>\n",
       "      <td>94</td>\n",
       "      <td>28.1</td>\n",
       "      <td>0.167</td>\n",
       "      <td>21</td>\n",
       "      <td>0</td>\n",
       "    </tr>\n",
       "    <tr>\n",
       "      <th>4</th>\n",
       "      <td>0</td>\n",
       "      <td>137</td>\n",
       "      <td>40</td>\n",
       "      <td>35</td>\n",
       "      <td>168</td>\n",
       "      <td>43.1</td>\n",
       "      <td>2.288</td>\n",
       "      <td>33</td>\n",
       "      <td>1</td>\n",
       "    </tr>\n",
       "  </tbody>\n",
       "</table>\n",
       "</div>"
      ],
      "text/plain": [
       "   timespreg  gluctol  diaspb  triceps  insulin  massindex  pedigree  age  \\\n",
       "0          6      148      72       35        0       33.6     0.627   50   \n",
       "1          1       85      66       29        0       26.6     0.351   31   \n",
       "2          8      183      64        0        0       23.3     0.672   32   \n",
       "3          1       89      66       23       94       28.1     0.167   21   \n",
       "4          0      137      40       35      168       43.1     2.288   33   \n",
       "\n",
       "   target  \n",
       "0       1  \n",
       "1       0  \n",
       "2       1  \n",
       "3       0  \n",
       "4       1  "
      ]
     },
     "execution_count": 1,
     "metadata": {},
     "output_type": "execute_result"
    }
   ],
   "source": [
    "import pandas as pd\n",
    "df = pd.read_csv('diabetes.csv')\n",
    "\n",
    "df.head()"
   ]
  },
  {
   "cell_type": "code",
   "execution_count": 2,
   "metadata": {
    "colab": {
     "base_uri": "https://localhost:8080/",
     "height": 67
    },
    "colab_type": "code",
    "executionInfo": {
     "elapsed": 1449,
     "status": "ok",
     "timestamp": 1571065640841,
     "user": {
      "displayName": "ai school",
      "photoUrl": "",
      "userId": "08125262134229048618"
     },
     "user_tz": -120
    },
    "id": "5Vo37xSHzOx5",
    "outputId": "53be1fbe-7af5-4849-c110-efc2ec66448e"
   },
   "outputs": [
    {
     "data": {
      "text/plain": [
       "Index(['timespreg', 'gluctol', 'diaspb', 'triceps', 'insulin', 'massindex',\n",
       "       'pedigree', 'age', 'target'],\n",
       "      dtype='object')"
      ]
     },
     "execution_count": 2,
     "metadata": {},
     "output_type": "execute_result"
    }
   ],
   "source": [
    "df.columns"
   ]
  },
  {
   "cell_type": "code",
   "execution_count": 3,
   "metadata": {
    "colab": {
     "base_uri": "https://localhost:8080/",
     "height": 83
    },
    "colab_type": "code",
    "executionInfo": {
     "elapsed": 1390,
     "status": "ok",
     "timestamp": 1571065640843,
     "user": {
      "displayName": "ai school",
      "photoUrl": "",
      "userId": "08125262134229048618"
     },
     "user_tz": -120
    },
    "id": "9pb8Z-NVzOyC",
    "outputId": "dbe39823-e13b-4099-a075-7bb36d257818"
   },
   "outputs": [
    {
     "name": "stdout",
     "output_type": "stream",
     "text": [
      "target\n",
      "0    500\n",
      "1    268\n",
      "dtype: int64\n"
     ]
    }
   ],
   "source": [
    "#Print class frequencies through pandas \n",
    "print(df.groupby('target').size())"
   ]
  },
  {
   "cell_type": "code",
   "execution_count": 4,
   "metadata": {
    "colab": {
     "base_uri": "https://localhost:8080/",
     "height": 295
    },
    "colab_type": "code",
    "executionInfo": {
     "elapsed": 1805,
     "status": "ok",
     "timestamp": 1571065641280,
     "user": {
      "displayName": "ai school",
      "photoUrl": "",
      "userId": "08125262134229048618"
     },
     "user_tz": -120
    },
    "id": "_lpEzGEVzOyF",
    "outputId": "9320a723-597d-46ac-d0c8-84e981038f8e"
   },
   "outputs": [
    {
     "data": {
      "image/png": "[encoded data removed]",
      "text/plain": [
       "<Figure size 432x288 with 1 Axes>"
      ]
     },
     "metadata": {
      "needs_background": "light"
     },
     "output_type": "display_data"
    }
   ],
   "source": [
    "#Bar plot for the target variable\n",
    "%matplotlib inline\n",
    "import seaborn as sns #https://seaborn.pydata.org/\n",
    "import matplotlib.pyplot as plt #https://matplotlib.org/\n",
    "\n",
    "sns.countplot(x=\"target\", data=df)\n",
    "plt.title(\"Diabetes Dataset\")\n",
    "plt.xlabel(\"Classes\")\n",
    "plt.ylabel(\"Counts\")\n",
    "plt.show()"
   ]
  },
  {
   "cell_type": "code",
   "execution_count": 5,
   "metadata": {
    "colab": {
     "base_uri": "https://localhost:8080/",
     "height": 666
    },
    "colab_type": "code",
    "executionInfo": {
     "elapsed": 3277,
     "status": "ok",
     "timestamp": 1571065642775,
     "user": {
      "displayName": "ai school",
      "photoUrl": "",
      "userId": "08125262134229048618"
     },
     "user_tz": -120
    },
    "id": "aaXMXa1dzOyK",
    "outputId": "2557883b-9c6b-4bad-f826-40eb300002f8"
   },
   "outputs": [
    {
     "data": {
      "text/plain": [
       "array([[<AxesSubplot:title={'center':'timespreg'}>,\n",
       "        <AxesSubplot:title={'center':'gluctol'}>,\n",
       "        <AxesSubplot:title={'center':'diaspb'}>],\n",
       "       [<AxesSubplot:title={'center':'triceps'}>,\n",
       "        <AxesSubplot:title={'center':'insulin'}>,\n",
       "        <AxesSubplot:title={'center':'massindex'}>],\n",
       "       [<AxesSubplot:title={'center':'pedigree'}>,\n",
       "        <AxesSubplot:title={'center':'age'}>,\n",
       "        <AxesSubplot:title={'center':'target'}>]], dtype=object)"
      ]
     },
     "execution_count": 5,
     "metadata": {},
     "output_type": "execute_result"
    },
    {
     "data": {
      "image/png": "[encoded data removed]",
      "text/plain": [
       "<Figure size 720x576 with 9 Axes>"
      ]
     },
     "metadata": {
      "needs_background": "light"
     },
     "output_type": "display_data"
    }
   ],
   "source": [
    "df.hist(figsize=(10,8))"
   ]
  },
  {
   "cell_type": "code",
   "execution_count": 6,
   "metadata": {
    "colab": {
     "base_uri": "https://localhost:8080/",
     "height": 33
    },
    "colab_type": "code",
    "executionInfo": {
     "elapsed": 3267,
     "status": "ok",
     "timestamp": 1571065642776,
     "user": {
      "displayName": "ai school",
      "photoUrl": "",
      "userId": "08125262134229048618"
     },
     "user_tz": -120
    },
    "id": "98YzyRH1zOyN",
    "outputId": "03ade465-d41b-4116-a29f-8c090753e8a1"
   },
   "outputs": [
    {
     "name": "stdout",
     "output_type": "stream",
     "text": [
      "(768, 8)\n"
     ]
    }
   ],
   "source": [
    "# slicing the dataframe EXPL_VARs/TARGET\n",
    "import numpy as np\n",
    "df = df.values\n",
    "x=df[:,0:-1] \n",
    "y=df[:,-1]\n",
    "\n",
    "print(x.shape)"
   ]
  },
  {
   "cell_type": "code",
   "execution_count": 124,
   "metadata": {
    "colab": {
     "base_uri": "https://localhost:8080/",
     "height": 33
    },
    "colab_type": "code",
    "executionInfo": {
     "elapsed": 3258,
     "status": "ok",
     "timestamp": 1571065642777,
     "user": {
      "displayName": "ai school",
      "photoUrl": "",
      "userId": "08125262134229048618"
     },
     "user_tz": -120
    },
    "id": "P0nOG-9uzOyQ",
    "outputId": "5267c8d7-ae11-4580-c052-531df5944f38"
   },
   "outputs": [
    {
     "name": "stdout",
     "output_type": "stream",
     "text": [
      "(768,)\n"
     ]
    }
   ],
   "source": [
    "print(y.shape)"
   ]
  },
  {
   "cell_type": "code",
   "execution_count": 7,
   "metadata": {
    "colab": {
     "base_uri": "https://localhost:8080/",
     "height": 50
    },
    "colab_type": "code",
    "executionInfo": {
     "elapsed": 3396,
     "status": "ok",
     "timestamp": 1571065642926,
     "user": {
      "displayName": "ai school",
      "photoUrl": "",
      "userId": "08125262134229048618"
     },
     "user_tz": -120
    },
    "id": "Led2n3hszOyU",
    "outputId": "26d7a386-cfa5-47cf-8873-7fcf6b8d5cf0"
   },
   "outputs": [
    {
     "name": "stdout",
     "output_type": "stream",
     "text": [
      "(537, 8)\n",
      "(231, 8)\n"
     ]
    }
   ],
   "source": [
    "from sklearn.model_selection import train_test_split\n",
    "\n",
    "# Split data into training and test sets\n",
    "x_train, x_test, y_train, y_test = train_test_split(x, y, \n",
    "                                                    test_size =0.3, #by default is 75%-25%\n",
    "                                                    #shuffle is set True by default,\n",
    "                                                    stratify=y,\n",
    "                                                    random_state= 123) #fix random seed for replicability\n",
    "print(x_train.shape)\n",
    "print(x_test.shape)"
   ]
  },
  {
   "cell_type": "markdown",
   "metadata": {
    "colab_type": "text",
    "id": "Uzbc7RWVzOyX"
   },
   "source": [
    "## Create a NN model with Keras"
   ]
  },
  {
   "cell_type": "code",
   "execution_count": 126,
   "metadata": {
    "scrolled": false
   },
   "outputs": [],
   "source": [
    "# Install a conda package in the current Jupyter kernel\n",
    "#import sys\n",
    "#!conda install --yes --prefix {sys.prefix} keras tensorflow"
   ]
  },
  {
   "cell_type": "code",
   "execution_count": 41,
   "metadata": {
    "colab": {
     "base_uri": "https://localhost:8080/",
     "height": 253
    },
    "colab_type": "code",
    "executionInfo": {
     "elapsed": 4923,
     "status": "ok",
     "timestamp": 1571065644466,
     "user": {
      "displayName": "ai school",
      "photoUrl": "",
      "userId": "08125262134229048618"
     },
     "user_tz": -120
    },
    "id": "ZQ4PxlyRzOyY",
    "outputId": "bbb6bc25-784a-4b21-f0fc-0f71eaadb87a",
    "scrolled": false
   },
   "outputs": [],
   "source": [
    "from keras.models import Sequential\n",
    "from keras.layers import Dense, Dropout\n",
    "from keras import optimizers\n",
    "\n",
    "np.random.seed(123)\n",
    "\n",
    "model = Sequential()\n",
    "model.add(Dense(10, input_dim=8, activation='relu'))\n",
    "model.add(Dropout(0.5))\n",
    "model.add(Dense(5, activation='relu'))\n",
    "model.add(Dense(1, activation='sigmoid'))"
   ]
  },
  {
   "cell_type": "markdown",
   "metadata": {
    "colab_type": "text",
    "id": "BFR0o0nnzOyb"
   },
   "source": [
    "## Train the model and print a summary representation of the model"
   ]
  },
  {
   "cell_type": "code",
   "execution_count": 42,
   "metadata": {
    "colab": {
     "base_uri": "https://localhost:8080/",
     "height": 403
    },
    "colab_type": "code",
    "executionInfo": {
     "elapsed": 4912,
     "status": "ok",
     "timestamp": 1571065644467,
     "user": {
      "displayName": "ai school",
      "photoUrl": "",
      "userId": "08125262134229048618"
     },
     "user_tz": -120
    },
    "id": "5-ocmZKgzOyc",
    "outputId": "252b9b3c-598a-4096-f0fd-78ba35662d2d"
   },
   "outputs": [
    {
     "name": "stdout",
     "output_type": "stream",
     "text": [
      "Model: \"sequential_2\"\n",
      "_________________________________________________________________\n",
      "Layer (type)                 Output Shape              Param #   \n",
      "=================================================================\n",
      "dense_6 (Dense)              (None, 10)                90        \n",
      "_________________________________________________________________\n",
      "dropout_1 (Dropout)          (None, 10)                0         \n",
      "_________________________________________________________________\n",
      "dense_7 (Dense)              (None, 5)                 55        \n",
      "_________________________________________________________________\n",
      "dense_8 (Dense)              (None, 1)                 6         \n",
      "=================================================================\n",
      "Total params: 151\n",
      "Trainable params: 151\n",
      "Non-trainable params: 0\n",
      "_________________________________________________________________\n",
      "None\n"
     ]
    }
   ],
   "source": [
    "model.compile(loss='binary_crossentropy',metrics=['accuracy'])\n",
    "\n",
    "print(model.summary())"
   ]
  },
  {
   "cell_type": "markdown",
   "metadata": {
    "colab_type": "text",
    "id": "9kXdqu0DzOyf"
   },
   "source": [
    "# Fit the model"
   ]
  },
  {
   "cell_type": "code",
   "execution_count": 43,
   "metadata": {
    "colab": {
     "base_uri": "https://localhost:8080/",
     "height": 1000
    },
    "colab_type": "code",
    "executionInfo": {
     "elapsed": 15007,
     "status": "ok",
     "timestamp": 1571065654581,
     "user": {
      "displayName": "ai school",
      "photoUrl": "",
      "userId": "08125262134229048618"
     },
     "user_tz": -120
    },
    "id": "QdFEKN0qzOyg",
    "outputId": "6ffacf29-63e7-467d-9a54-f502736c075e",
    "scrolled": true
   },
   "outputs": [
    {
     "name": "stdout",
     "output_type": "stream",
     "text": [
      "Epoch 1/100\n",
      "14/14 [==============================] - 1s 39ms/step - loss: 24.0005 - accuracy: 0.4410 - val_loss: 12.5609 - val_accuracy: 0.3889\n",
      "Epoch 2/100\n",
      "14/14 [==============================] - 0s 16ms/step - loss: 18.5738 - accuracy: 0.4070 - val_loss: 7.3359 - val_accuracy: 0.4167\n",
      "Epoch 3/100\n",
      "14/14 [==============================] - 0s 24ms/step - loss: 15.8748 - accuracy: 0.4217 - val_loss: 3.2706 - val_accuracy: 0.4167\n",
      "Epoch 4/100\n",
      "14/14 [==============================] - 0s 15ms/step - loss: 9.6073 - accuracy: 0.4610 - val_loss: 1.9698 - val_accuracy: 0.4537\n",
      "Epoch 5/100\n",
      "14/14 [==============================] - 0s 17ms/step - loss: 7.3628 - accuracy: 0.4776 - val_loss: 2.6314 - val_accuracy: 0.5463\n",
      "Epoch 6/100\n",
      "14/14 [==============================] - 0s 12ms/step - loss: 5.7905 - accuracy: 0.5290 - val_loss: 3.2064 - val_accuracy: 0.6111\n",
      "Epoch 7/100\n",
      "14/14 [==============================] - 0s 18ms/step - loss: 4.2719 - accuracy: 0.5187 - val_loss: 3.0729 - val_accuracy: 0.6204\n",
      "Epoch 8/100\n",
      "14/14 [==============================] - 0s 14ms/step - loss: 3.6892 - accuracy: 0.5403 - val_loss: 2.9831 - val_accuracy: 0.6204\n",
      "Epoch 9/100\n",
      "14/14 [==============================] - 0s 12ms/step - loss: 3.9510 - accuracy: 0.5462 - val_loss: 2.6240 - val_accuracy: 0.6204\n",
      "Epoch 10/100\n",
      "14/14 [==============================] - 0s 11ms/step - loss: 2.3890 - accuracy: 0.6031 - val_loss: 2.3445 - val_accuracy: 0.6204\n",
      "Epoch 11/100\n",
      "14/14 [==============================] - 0s 9ms/step - loss: 2.8926 - accuracy: 0.5781 - val_loss: 1.8778 - val_accuracy: 0.6296\n",
      "Epoch 12/100\n",
      "14/14 [==============================] - 0s 8ms/step - loss: 1.9967 - accuracy: 0.6141 - val_loss: 1.5387 - val_accuracy: 0.6204\n",
      "Epoch 13/100\n",
      "14/14 [==============================] - 0s 12ms/step - loss: 1.5470 - accuracy: 0.5973 - val_loss: 1.3593 - val_accuracy: 0.6111\n",
      "Epoch 14/100\n",
      "14/14 [==============================] - 0s 19ms/step - loss: 1.5200 - accuracy: 0.5951 - val_loss: 1.2543 - val_accuracy: 0.6111\n",
      "Epoch 15/100\n",
      "14/14 [==============================] - 0s 18ms/step - loss: 1.4233 - accuracy: 0.5944 - val_loss: 1.0146 - val_accuracy: 0.5648\n",
      "Epoch 16/100\n",
      "14/14 [==============================] - 0s 9ms/step - loss: 1.1622 - accuracy: 0.6142 - val_loss: 0.9462 - val_accuracy: 0.5648\n",
      "Epoch 17/100\n",
      "14/14 [==============================] - 0s 8ms/step - loss: 1.6123 - accuracy: 0.5851 - val_loss: 0.8688 - val_accuracy: 0.5463\n",
      "Epoch 18/100\n",
      "14/14 [==============================] - 0s 9ms/step - loss: 0.9642 - accuracy: 0.6016 - val_loss: 0.8413 - val_accuracy: 0.5185\n",
      "Epoch 19/100\n",
      "14/14 [==============================] - 0s 15ms/step - loss: 1.2600 - accuracy: 0.5706 - val_loss: 0.8239 - val_accuracy: 0.5556\n",
      "Epoch 20/100\n",
      "14/14 [==============================] - 0s 10ms/step - loss: 1.0398 - accuracy: 0.5785 - val_loss: 0.7898 - val_accuracy: 0.5556\n",
      "Epoch 21/100\n",
      "14/14 [==============================] - 0s 19ms/step - loss: 1.0026 - accuracy: 0.5815 - val_loss: 0.7653 - val_accuracy: 0.5556\n",
      "Epoch 22/100\n",
      "14/14 [==============================] - 0s 20ms/step - loss: 1.0444 - accuracy: 0.5934 - val_loss: 0.7682 - val_accuracy: 0.5278\n",
      "Epoch 23/100\n",
      "14/14 [==============================] - 0s 20ms/step - loss: 1.0307 - accuracy: 0.6320 - val_loss: 0.7415 - val_accuracy: 0.5370\n",
      "Epoch 24/100\n",
      "14/14 [==============================] - 0s 11ms/step - loss: 0.8124 - accuracy: 0.6042 - val_loss: 0.7206 - val_accuracy: 0.5648\n",
      "Epoch 25/100\n",
      "14/14 [==============================] - 0s 13ms/step - loss: 0.8607 - accuracy: 0.5882 - val_loss: 0.7759 - val_accuracy: 0.5000\n",
      "Epoch 26/100\n",
      "14/14 [==============================] - 0s 14ms/step - loss: 0.8275 - accuracy: 0.6332 - val_loss: 0.6990 - val_accuracy: 0.5648\n",
      "Epoch 27/100\n",
      "14/14 [==============================] - 0s 9ms/step - loss: 0.7748 - accuracy: 0.6253 - val_loss: 0.7008 - val_accuracy: 0.5556\n",
      "Epoch 28/100\n",
      "14/14 [==============================] - 0s 12ms/step - loss: 0.8684 - accuracy: 0.6129 - val_loss: 0.7016 - val_accuracy: 0.5556\n",
      "Epoch 29/100\n",
      "14/14 [==============================] - 0s 15ms/step - loss: 0.8198 - accuracy: 0.6769 - val_loss: 0.6883 - val_accuracy: 0.5556\n",
      "Epoch 30/100\n",
      "14/14 [==============================] - 0s 17ms/step - loss: 0.7238 - accuracy: 0.6253 - val_loss: 0.7137 - val_accuracy: 0.5648\n",
      "Epoch 31/100\n",
      "14/14 [==============================] - 0s 23ms/step - loss: 0.6774 - accuracy: 0.6199 - val_loss: 0.6776 - val_accuracy: 0.6296\n",
      "Epoch 32/100\n",
      "14/14 [==============================] - 0s 21ms/step - loss: 0.8444 - accuracy: 0.6578 - val_loss: 0.6761 - val_accuracy: 0.5833\n",
      "Epoch 33/100\n",
      "14/14 [==============================] - 0s 23ms/step - loss: 0.6991 - accuracy: 0.6513 - val_loss: 0.6775 - val_accuracy: 0.5833\n",
      "Epoch 34/100\n",
      "14/14 [==============================] - 0s 18ms/step - loss: 0.7222 - accuracy: 0.6486 - val_loss: 0.7006 - val_accuracy: 0.5741\n",
      "Epoch 35/100\n",
      "14/14 [==============================] - 0s 22ms/step - loss: 0.7176 - accuracy: 0.6176 - val_loss: 0.7240 - val_accuracy: 0.5741\n",
      "Epoch 36/100\n",
      "14/14 [==============================] - 0s 31ms/step - loss: 0.7000 - accuracy: 0.6558 - val_loss: 0.6786 - val_accuracy: 0.6019\n",
      "Epoch 37/100\n",
      "14/14 [==============================] - 0s 30ms/step - loss: 0.6857 - accuracy: 0.6343 - val_loss: 0.7282 - val_accuracy: 0.5556\n",
      "Epoch 38/100\n",
      "14/14 [==============================] - 1s 38ms/step - loss: 0.6542 - accuracy: 0.6652 - val_loss: 0.6956 - val_accuracy: 0.5556\n",
      "Epoch 39/100\n",
      "14/14 [==============================] - 0s 27ms/step - loss: 0.6950 - accuracy: 0.6428 - val_loss: 0.7026 - val_accuracy: 0.5741\n",
      "Epoch 40/100\n",
      "14/14 [==============================] - 0s 27ms/step - loss: 0.7413 - accuracy: 0.6305 - val_loss: 0.6785 - val_accuracy: 0.5926\n",
      "Epoch 41/100\n",
      "14/14 [==============================] - 1s 37ms/step - loss: 0.6743 - accuracy: 0.6356 - val_loss: 0.6799 - val_accuracy: 0.5833\n",
      "Epoch 42/100\n",
      "14/14 [==============================] - 0s 20ms/step - loss: 0.7271 - accuracy: 0.6362 - val_loss: 0.7219 - val_accuracy: 0.5278\n",
      "Epoch 43/100\n",
      "14/14 [==============================] - 0s 27ms/step - loss: 0.7121 - accuracy: 0.6156 - val_loss: 0.6919 - val_accuracy: 0.5741\n",
      "Epoch 44/100\n",
      "14/14 [==============================] - 0s 16ms/step - loss: 0.6441 - accuracy: 0.6999 - val_loss: 0.6724 - val_accuracy: 0.6111\n",
      "Epoch 45/100\n",
      "14/14 [==============================] - 0s 23ms/step - loss: 0.6572 - accuracy: 0.6780 - val_loss: 0.6813 - val_accuracy: 0.5833\n",
      "Epoch 46/100\n",
      "14/14 [==============================] - 0s 29ms/step - loss: 0.7051 - accuracy: 0.6365 - val_loss: 0.7458 - val_accuracy: 0.4907\n",
      "Epoch 47/100\n",
      "14/14 [==============================] - 0s 27ms/step - loss: 0.7126 - accuracy: 0.6389 - val_loss: 0.6791 - val_accuracy: 0.5833\n",
      "Epoch 48/100\n",
      "14/14 [==============================] - 0s 33ms/step - loss: 0.6510 - accuracy: 0.6557 - val_loss: 0.6769 - val_accuracy: 0.6111\n",
      "Epoch 49/100\n",
      "14/14 [==============================] - 0s 26ms/step - loss: 0.6424 - accuracy: 0.6627 - val_loss: 0.6736 - val_accuracy: 0.6111\n",
      "Epoch 50/100\n",
      "14/14 [==============================] - 0s 29ms/step - loss: 0.6861 - accuracy: 0.6297 - val_loss: 0.6776 - val_accuracy: 0.6111\n",
      "Epoch 51/100\n",
      "14/14 [==============================] - 0s 28ms/step - loss: 0.6400 - accuracy: 0.6774 - val_loss: 0.7115 - val_accuracy: 0.5648\n",
      "Epoch 52/100\n",
      "14/14 [==============================] - 0s 29ms/step - loss: 0.6857 - accuracy: 0.6750 - val_loss: 0.6728 - val_accuracy: 0.6296\n",
      "Epoch 53/100\n",
      "14/14 [==============================] - 0s 28ms/step - loss: 0.6519 - accuracy: 0.6621 - val_loss: 0.6712 - val_accuracy: 0.6111\n",
      "Epoch 54/100\n",
      "14/14 [==============================] - 0s 20ms/step - loss: 0.6353 - accuracy: 0.6760 - val_loss: 0.6724 - val_accuracy: 0.6389\n",
      "Epoch 55/100\n",
      "14/14 [==============================] - 0s 15ms/step - loss: 0.6442 - accuracy: 0.6760 - val_loss: 0.6690 - val_accuracy: 0.6296\n",
      "Epoch 56/100\n",
      "14/14 [==============================] - 0s 26ms/step - loss: 0.6582 - accuracy: 0.6371 - val_loss: 0.6860 - val_accuracy: 0.5926\n",
      "Epoch 57/100\n",
      "14/14 [==============================] - 0s 26ms/step - loss: 0.6920 - accuracy: 0.6298 - val_loss: 0.6720 - val_accuracy: 0.6204\n",
      "Epoch 58/100\n"
     ]
    },
    {
     "name": "stdout",
     "output_type": "stream",
     "text": [
      "14/14 [==============================] - 0s 31ms/step - loss: 0.7063 - accuracy: 0.6756 - val_loss: 0.6931 - val_accuracy: 0.6111\n",
      "Epoch 59/100\n",
      "14/14 [==============================] - 0s 28ms/step - loss: 0.6613 - accuracy: 0.6506 - val_loss: 0.6873 - val_accuracy: 0.6111\n",
      "Epoch 60/100\n",
      "14/14 [==============================] - 0s 24ms/step - loss: 0.6526 - accuracy: 0.6875 - val_loss: 0.6819 - val_accuracy: 0.5926\n",
      "Epoch 61/100\n",
      "14/14 [==============================] - 0s 29ms/step - loss: 0.6166 - accuracy: 0.7236 - val_loss: 0.6900 - val_accuracy: 0.5833\n",
      "Epoch 62/100\n",
      "14/14 [==============================] - 0s 26ms/step - loss: 0.6399 - accuracy: 0.6444 - val_loss: 0.6754 - val_accuracy: 0.6204\n",
      "Epoch 63/100\n",
      "14/14 [==============================] - 0s 26ms/step - loss: 0.6507 - accuracy: 0.6582 - val_loss: 0.6797 - val_accuracy: 0.6204\n",
      "Epoch 64/100\n",
      "14/14 [==============================] - 0s 15ms/step - loss: 0.6431 - accuracy: 0.6742 - val_loss: 0.6762 - val_accuracy: 0.6296\n",
      "Epoch 65/100\n",
      "14/14 [==============================] - 0s 22ms/step - loss: 0.6452 - accuracy: 0.6535 - val_loss: 0.6765 - val_accuracy: 0.6019\n",
      "Epoch 66/100\n",
      "14/14 [==============================] - 0s 21ms/step - loss: 0.6243 - accuracy: 0.6478 - val_loss: 0.6933 - val_accuracy: 0.5741\n",
      "Epoch 67/100\n",
      "14/14 [==============================] - 0s 16ms/step - loss: 0.6523 - accuracy: 0.6731 - val_loss: 0.6754 - val_accuracy: 0.6296\n",
      "Epoch 68/100\n",
      "14/14 [==============================] - 0s 21ms/step - loss: 0.6106 - accuracy: 0.7026 - val_loss: 0.6782 - val_accuracy: 0.6111\n",
      "Epoch 69/100\n",
      "14/14 [==============================] - 0s 23ms/step - loss: 0.6088 - accuracy: 0.6929 - val_loss: 0.6973 - val_accuracy: 0.5741\n",
      "Epoch 70/100\n",
      "14/14 [==============================] - 0s 24ms/step - loss: 0.6173 - accuracy: 0.6649 - val_loss: 0.6859 - val_accuracy: 0.6019\n",
      "Epoch 71/100\n",
      "14/14 [==============================] - 0s 19ms/step - loss: 0.6062 - accuracy: 0.7174 - val_loss: 0.6796 - val_accuracy: 0.6296\n",
      "Epoch 72/100\n",
      "14/14 [==============================] - 0s 25ms/step - loss: 0.6336 - accuracy: 0.6750 - val_loss: 0.6871 - val_accuracy: 0.6019\n",
      "Epoch 73/100\n",
      "14/14 [==============================] - 0s 21ms/step - loss: 0.6125 - accuracy: 0.6899 - val_loss: 0.7014 - val_accuracy: 0.5833\n",
      "Epoch 74/100\n",
      "14/14 [==============================] - 0s 17ms/step - loss: 0.6667 - accuracy: 0.6730 - val_loss: 0.6774 - val_accuracy: 0.6389\n",
      "Epoch 75/100\n",
      "14/14 [==============================] - 0s 18ms/step - loss: 0.6080 - accuracy: 0.6943 - val_loss: 0.6790 - val_accuracy: 0.6296\n",
      "Epoch 76/100\n",
      "14/14 [==============================] - 0s 26ms/step - loss: 0.6289 - accuracy: 0.6851 - val_loss: 0.6766 - val_accuracy: 0.6204\n",
      "Epoch 77/100\n",
      "14/14 [==============================] - 0s 18ms/step - loss: 0.6316 - accuracy: 0.6607 - val_loss: 0.6880 - val_accuracy: 0.6389\n",
      "Epoch 78/100\n",
      "14/14 [==============================] - 0s 21ms/step - loss: 0.6639 - accuracy: 0.6492 - val_loss: 0.6805 - val_accuracy: 0.6481\n",
      "Epoch 79/100\n",
      "14/14 [==============================] - 0s 28ms/step - loss: 0.6565 - accuracy: 0.6554 - val_loss: 0.6914 - val_accuracy: 0.5833\n",
      "Epoch 80/100\n",
      "14/14 [==============================] - 0s 31ms/step - loss: 0.6165 - accuracy: 0.6731 - val_loss: 0.6758 - val_accuracy: 0.6389\n",
      "Epoch 81/100\n",
      "14/14 [==============================] - 0s 32ms/step - loss: 0.6203 - accuracy: 0.6658 - val_loss: 0.6796 - val_accuracy: 0.6296\n",
      "Epoch 82/100\n",
      "14/14 [==============================] - 1s 36ms/step - loss: 0.6378 - accuracy: 0.6483 - val_loss: 0.6821 - val_accuracy: 0.6389\n",
      "Epoch 83/100\n",
      "14/14 [==============================] - 1s 40ms/step - loss: 0.6462 - accuracy: 0.6955 - val_loss: 0.6798 - val_accuracy: 0.6389\n",
      "Epoch 84/100\n",
      "14/14 [==============================] - 0s 34ms/step - loss: 0.6231 - accuracy: 0.6872 - val_loss: 0.6817 - val_accuracy: 0.6296\n",
      "Epoch 85/100\n",
      "14/14 [==============================] - 0s 32ms/step - loss: 0.6451 - accuracy: 0.6407 - val_loss: 0.6803 - val_accuracy: 0.6481\n",
      "Epoch 86/100\n",
      "14/14 [==============================] - 0s 30ms/step - loss: 0.5885 - accuracy: 0.7123 - val_loss: 0.6800 - val_accuracy: 0.6574\n",
      "Epoch 87/100\n",
      "14/14 [==============================] - 1s 37ms/step - loss: 0.6382 - accuracy: 0.6665 - val_loss: 0.6782 - val_accuracy: 0.6574\n",
      "Epoch 88/100\n",
      "14/14 [==============================] - 0s 31ms/step - loss: 0.6166 - accuracy: 0.6872 - val_loss: 0.6827 - val_accuracy: 0.6389\n",
      "Epoch 89/100\n",
      "14/14 [==============================] - 0s 25ms/step - loss: 0.6529 - accuracy: 0.6696 - val_loss: 0.6853 - val_accuracy: 0.6204\n",
      "Epoch 90/100\n",
      "14/14 [==============================] - 0s 30ms/step - loss: 0.5829 - accuracy: 0.7186 - val_loss: 0.6790 - val_accuracy: 0.6667\n",
      "Epoch 91/100\n",
      "14/14 [==============================] - 0s 25ms/step - loss: 0.6183 - accuracy: 0.6693 - val_loss: 0.6749 - val_accuracy: 0.6574\n",
      "Epoch 92/100\n",
      "14/14 [==============================] - 0s 26ms/step - loss: 0.6014 - accuracy: 0.6889 - val_loss: 0.6818 - val_accuracy: 0.6481\n",
      "Epoch 93/100\n",
      "14/14 [==============================] - 0s 23ms/step - loss: 0.5942 - accuracy: 0.6889 - val_loss: 0.6937 - val_accuracy: 0.5926\n",
      "Epoch 94/100\n",
      "14/14 [==============================] - 0s 24ms/step - loss: 0.6272 - accuracy: 0.6741 - val_loss: 0.6855 - val_accuracy: 0.6389\n",
      "Epoch 95/100\n",
      "14/14 [==============================] - 0s 18ms/step - loss: 0.6364 - accuracy: 0.6703 - val_loss: 0.6797 - val_accuracy: 0.6481\n",
      "Epoch 96/100\n",
      "14/14 [==============================] - 0s 25ms/step - loss: 0.6035 - accuracy: 0.6973 - val_loss: 0.6931 - val_accuracy: 0.6204\n",
      "Epoch 97/100\n",
      "14/14 [==============================] - 0s 31ms/step - loss: 0.6241 - accuracy: 0.6897 - val_loss: 0.6871 - val_accuracy: 0.6296\n",
      "Epoch 98/100\n",
      "14/14 [==============================] - 0s 26ms/step - loss: 0.6283 - accuracy: 0.6686 - val_loss: 0.6827 - val_accuracy: 0.6574\n",
      "Epoch 99/100\n",
      "14/14 [==============================] - 0s 21ms/step - loss: 0.6220 - accuracy: 0.6755 - val_loss: 0.6822 - val_accuracy: 0.6667\n",
      "Epoch 100/100\n",
      "14/14 [==============================] - 0s 18ms/step - loss: 0.6467 - accuracy: 0.6538 - val_loss: 0.6869 - val_accuracy: 0.6667\n"
     ]
    }
   ],
   "source": [
    "history = model.fit(x_train, y_train, validation_split=0.2, epochs=100,\n",
    "                    batch_size=32)"
   ]
  },
  {
   "cell_type": "markdown",
   "metadata": {
    "colab_type": "text",
    "id": "sdzis8Q8zOyj"
   },
   "source": [
    "# Evaluate the model and print its loss and accuracy score"
   ]
  },
  {
   "cell_type": "code",
   "execution_count": 33,
   "metadata": {
    "colab": {
     "base_uri": "https://localhost:8080/",
     "height": 50
    },
    "colab_type": "code",
    "executionInfo": {
     "elapsed": 15141,
     "status": "ok",
     "timestamp": 1571065654734,
     "user": {
      "displayName": "ai school",
      "photoUrl": "",
      "userId": "08125262134229048618"
     },
     "user_tz": -120
    },
    "id": "-p8g_vtnzOyk",
    "outputId": "2c03448c-edbb-40ec-b79c-755d18f4b453"
   },
   "outputs": [
    {
     "name": "stdout",
     "output_type": "stream",
     "text": [
      "8/8 [==============================] - 0s 12ms/step - loss: 0.6431 - accuracy: 0.6494\n",
      "[0.6430614590644836, 0.649350643157959]\n"
     ]
    }
   ],
   "source": [
    "score = model.evaluate(x_test, y_test)\n",
    "print(score)"
   ]
  },
  {
   "cell_type": "code",
   "execution_count": 34,
   "metadata": {},
   "outputs": [
    {
     "data": {
      "text/plain": [
       "array([[0.245805  ],\n",
       "       [0.28015813],\n",
       "       [0.28015813],\n",
       "       [0.32794666],\n",
       "       [0.29545438],\n",
       "       [0.31377316],\n",
       "       [0.28448278],\n",
       "       [0.26406345],\n",
       "       [0.29903942],\n",
       "       [0.31551456],\n",
       "       [0.26734042],\n",
       "       [0.28109068],\n",
       "       [0.2807528 ],\n",
       "       [0.3034677 ],\n",
       "       [0.2853351 ],\n",
       "       [0.2904228 ],\n",
       "       [0.3191368 ],\n",
       "       [0.2790026 ],\n",
       "       [0.3115602 ],\n",
       "       [0.28015813],\n",
       "       [0.30824775],\n",
       "       [0.28015813],\n",
       "       [0.30840713],\n",
       "       [0.26684204],\n",
       "       [0.32818943],\n",
       "       [0.328203  ],\n",
       "       [0.33882585],\n",
       "       [0.30341488],\n",
       "       [0.3025569 ],\n",
       "       [0.30910027],\n",
       "       [0.30710214],\n",
       "       [0.30272073],\n",
       "       [0.27724832],\n",
       "       [0.31067193],\n",
       "       [0.28588402],\n",
       "       [0.28015813],\n",
       "       [0.30582452],\n",
       "       [0.36146832],\n",
       "       [0.2792362 ],\n",
       "       [0.36100137],\n",
       "       [0.27870825],\n",
       "       [0.27170458],\n",
       "       [0.29338378],\n",
       "       [0.34650517],\n",
       "       [0.28647238],\n",
       "       [0.30699018],\n",
       "       [0.28094497],\n",
       "       [0.3163699 ],\n",
       "       [0.28015813],\n",
       "       [0.3071098 ],\n",
       "       [0.29899424],\n",
       "       [0.2677945 ],\n",
       "       [0.33473063],\n",
       "       [0.31585035],\n",
       "       [0.26434773],\n",
       "       [0.33357382],\n",
       "       [0.31827483],\n",
       "       [0.3218533 ],\n",
       "       [0.26052678],\n",
       "       [0.24849764],\n",
       "       [0.2901881 ],\n",
       "       [0.29667926],\n",
       "       [0.2986696 ],\n",
       "       [0.3279988 ],\n",
       "       [0.3045604 ],\n",
       "       [0.29234135],\n",
       "       [0.26386482],\n",
       "       [0.27086604],\n",
       "       [0.30874395],\n",
       "       [0.28015813],\n",
       "       [0.30870157],\n",
       "       [0.2577176 ],\n",
       "       [0.28015813],\n",
       "       [0.29875538],\n",
       "       [0.3507668 ],\n",
       "       [0.29157037],\n",
       "       [0.31487122],\n",
       "       [0.31491512],\n",
       "       [0.32672876],\n",
       "       [0.28971976],\n",
       "       [0.2964607 ],\n",
       "       [0.26742652],\n",
       "       [0.27528417],\n",
       "       [0.2893484 ],\n",
       "       [0.27858862],\n",
       "       [0.27020326],\n",
       "       [0.33538395],\n",
       "       [0.26956078],\n",
       "       [0.3138911 ],\n",
       "       [0.29430816],\n",
       "       [0.29384008],\n",
       "       [0.30238342],\n",
       "       [0.3257755 ],\n",
       "       [0.2964564 ],\n",
       "       [0.28015813],\n",
       "       [0.2874037 ],\n",
       "       [0.3194607 ],\n",
       "       [0.28015813],\n",
       "       [0.28015813],\n",
       "       [0.29647082],\n",
       "       [0.27605444],\n",
       "       [0.2825886 ],\n",
       "       [0.32459477],\n",
       "       [0.32531995],\n",
       "       [0.35278985],\n",
       "       [0.27959085],\n",
       "       [0.29536995],\n",
       "       [0.26809037],\n",
       "       [0.3647274 ],\n",
       "       [0.28015813],\n",
       "       [0.30243748],\n",
       "       [0.29876128],\n",
       "       [0.2606594 ],\n",
       "       [0.28015813],\n",
       "       [0.32648075],\n",
       "       [0.2697087 ],\n",
       "       [0.28545702],\n",
       "       [0.25526536],\n",
       "       [0.28718665],\n",
       "       [0.28015813],\n",
       "       [0.31509346],\n",
       "       [0.2876417 ],\n",
       "       [0.31515145],\n",
       "       [0.28231573],\n",
       "       [0.28710058],\n",
       "       [0.28054407],\n",
       "       [0.29630226],\n",
       "       [0.30124334],\n",
       "       [0.30129713],\n",
       "       [0.28325212],\n",
       "       [0.27468342],\n",
       "       [0.30841   ],\n",
       "       [0.30409512],\n",
       "       [0.3635195 ],\n",
       "       [0.26099044],\n",
       "       [0.2709976 ],\n",
       "       [0.334425  ],\n",
       "       [0.35168454],\n",
       "       [0.3339739 ],\n",
       "       [0.28015813],\n",
       "       [0.30915096],\n",
       "       [0.27702427],\n",
       "       [0.2967711 ],\n",
       "       [0.34454575],\n",
       "       [0.2970271 ],\n",
       "       [0.32335556],\n",
       "       [0.32487953],\n",
       "       [0.28015813],\n",
       "       [0.32253623],\n",
       "       [0.26793283],\n",
       "       [0.284944  ],\n",
       "       [0.27940798],\n",
       "       [0.29492676],\n",
       "       [0.2842697 ],\n",
       "       [0.30929142],\n",
       "       [0.28632906],\n",
       "       [0.32696375],\n",
       "       [0.34007716],\n",
       "       [0.28015813],\n",
       "       [0.28015813],\n",
       "       [0.3151623 ],\n",
       "       [0.31265604],\n",
       "       [0.25186294],\n",
       "       [0.335664  ],\n",
       "       [0.34022886],\n",
       "       [0.3000109 ],\n",
       "       [0.29918543],\n",
       "       [0.29017973],\n",
       "       [0.29469186],\n",
       "       [0.33329237],\n",
       "       [0.3360695 ],\n",
       "       [0.30520806],\n",
       "       [0.28015813],\n",
       "       [0.27273223],\n",
       "       [0.30736756],\n",
       "       [0.27302587],\n",
       "       [0.28015813],\n",
       "       [0.31764767],\n",
       "       [0.29462513],\n",
       "       [0.31407738],\n",
       "       [0.32363045],\n",
       "       [0.26995042],\n",
       "       [0.32363802],\n",
       "       [0.33434188],\n",
       "       [0.27157038],\n",
       "       [0.3053937 ],\n",
       "       [0.31550533],\n",
       "       [0.3048732 ],\n",
       "       [0.28110334],\n",
       "       [0.297621  ],\n",
       "       [0.28103128],\n",
       "       [0.35117617],\n",
       "       [0.2964766 ],\n",
       "       [0.30837274],\n",
       "       [0.2977014 ],\n",
       "       [0.2866655 ],\n",
       "       [0.27276224],\n",
       "       [0.32281086],\n",
       "       [0.29161495],\n",
       "       [0.28015813],\n",
       "       [0.31595036],\n",
       "       [0.2992608 ],\n",
       "       [0.26745507],\n",
       "       [0.29385668],\n",
       "       [0.30216348],\n",
       "       [0.3287514 ],\n",
       "       [0.34710574],\n",
       "       [0.31034398],\n",
       "       [0.30613726],\n",
       "       [0.3351279 ],\n",
       "       [0.3502199 ],\n",
       "       [0.286537  ],\n",
       "       [0.28015813],\n",
       "       [0.2858797 ],\n",
       "       [0.35392076],\n",
       "       [0.35002512],\n",
       "       [0.32469845],\n",
       "       [0.31603765],\n",
       "       [0.28601718],\n",
       "       [0.30597496],\n",
       "       [0.28102   ],\n",
       "       [0.32679045],\n",
       "       [0.2874992 ],\n",
       "       [0.2804485 ],\n",
       "       [0.32566386],\n",
       "       [0.28326273],\n",
       "       [0.3058706 ],\n",
       "       [0.34034416],\n",
       "       [0.27869618],\n",
       "       [0.28221935],\n",
       "       [0.30161482]], dtype=float32)"
      ]
     },
     "execution_count": 34,
     "metadata": {},
     "output_type": "execute_result"
    }
   ],
   "source": [
    "y_pred_prob=model.predict(x_test)\n",
    "y_pred_prob"
   ]
  },
  {
   "cell_type": "code",
   "execution_count": 44,
   "metadata": {},
   "outputs": [
    {
     "name": "stdout",
     "output_type": "stream",
     "text": [
      "              precision    recall  f1-score   support\n",
      "\n",
      "         0.0       0.65      1.00      0.79       150\n",
      "         1.0       0.00      0.00      0.00        81\n",
      "\n",
      "    accuracy                           0.65       231\n",
      "   macro avg       0.32      0.50      0.39       231\n",
      "weighted avg       0.42      0.65      0.51       231\n",
      "\n"
     ]
    },
    {
     "name": "stderr",
     "output_type": "stream",
     "text": [
      "/home/mausoto/anaconda3/lib/python3.8/site-packages/sklearn/metrics/_classification.py:1245: UndefinedMetricWarning: Precision and F-score are ill-defined and being set to 0.0 in labels with no predicted samples. Use `zero_division` parameter to control this behavior.\n",
      "  _warn_prf(average, modifier, msg_start, len(result))\n",
      "/home/mausoto/anaconda3/lib/python3.8/site-packages/sklearn/metrics/_classification.py:1245: UndefinedMetricWarning: Precision and F-score are ill-defined and being set to 0.0 in labels with no predicted samples. Use `zero_division` parameter to control this behavior.\n",
      "  _warn_prf(average, modifier, msg_start, len(result))\n",
      "/home/mausoto/anaconda3/lib/python3.8/site-packages/sklearn/metrics/_classification.py:1245: UndefinedMetricWarning: Precision and F-score are ill-defined and being set to 0.0 in labels with no predicted samples. Use `zero_division` parameter to control this behavior.\n",
      "  _warn_prf(average, modifier, msg_start, len(result))\n"
     ]
    },
    {
     "data": {
      "image/png": "[encoded data removed]",
      "text/plain": [
       "<Figure size 432x288 with 2 Axes>"
      ]
     },
     "metadata": {
      "needs_background": "light"
     },
     "output_type": "display_data"
    }
   ],
   "source": [
    "y_pred=np.where(y_pred_prob > .7, 1,0).flatten()\n",
    "\n",
    "from sklearn.metrics import confusion_matrix\n",
    "from sklearn.metrics import classification_report\n",
    "import seaborn as sn\n",
    "import pandas as pd\n",
    "\n",
    "print(classification_report(y_test, y_pred))\n",
    "\n",
    "confusion_matrix = pd.crosstab( y_test,y_pred,rownames=['Actual'], colnames=['Predicted'])\n",
    "\n",
    "sn.heatmap(confusion_matrix, annot=True,fmt='g',cmap=\"Reds\")\n",
    "plt.show()"
   ]
  },
  {
   "cell_type": "markdown",
   "metadata": {
    "colab_type": "text",
    "id": "Pq1dUnbTzOyn"
   },
   "source": [
    "# Plot model training history"
   ]
  },
  {
   "cell_type": "code",
   "execution_count": 45,
   "metadata": {},
   "outputs": [
    {
     "data": {
      "text/plain": [
       "{'loss': [21.668169021606445,\n",
       "  17.871265411376953,\n",
       "  14.305098533630371,\n",
       "  8.965534210205078,\n",
       "  7.067042827606201,\n",
       "  5.563276290893555,\n",
       "  3.963343381881714,\n",
       "  3.7514472007751465,\n",
       "  3.245098114013672,\n",
       "  2.2375128269195557,\n",
       "  2.4308581352233887,\n",
       "  1.92691171169281,\n",
       "  1.6956455707550049,\n",
       "  1.5467193126678467,\n",
       "  1.5091493129730225,\n",
       "  1.1450238227844238,\n",
       "  1.403723120689392,\n",
       "  0.9364394545555115,\n",
       "  1.2016338109970093,\n",
       "  0.985113799571991,\n",
       "  1.0324223041534424,\n",
       "  1.0155619382858276,\n",
       "  0.9878460168838501,\n",
       "  0.8108600378036499,\n",
       "  0.812033474445343,\n",
       "  0.8826569318771362,\n",
       "  0.7593092918395996,\n",
       "  0.8405137062072754,\n",
       "  0.8512581586837769,\n",
       "  0.7680037617683411,\n",
       "  0.6837010383605957,\n",
       "  0.7574123740196228,\n",
       "  0.6941574811935425,\n",
       "  0.7576691508293152,\n",
       "  0.7129887342453003,\n",
       "  0.7021854519844055,\n",
       "  0.6795675158500671,\n",
       "  0.6634376645088196,\n",
       "  0.6878859400749207,\n",
       "  0.7653347849845886,\n",
       "  0.6778123378753662,\n",
       "  0.7077273726463318,\n",
       "  0.7328488230705261,\n",
       "  0.6614271998405457,\n",
       "  0.6881176233291626,\n",
       "  0.6936827898025513,\n",
       "  0.6918483376502991,\n",
       "  0.6466372609138489,\n",
       "  0.6502034664154053,\n",
       "  0.6723425984382629,\n",
       "  0.6564659476280212,\n",
       "  0.6683365106582642,\n",
       "  0.6473299860954285,\n",
       "  0.6790648698806763,\n",
       "  0.6523747444152832,\n",
       "  0.6525194644927979,\n",
       "  0.6494277715682983,\n",
       "  0.680808961391449,\n",
       "  0.6387225389480591,\n",
       "  0.6580321192741394,\n",
       "  0.6537154912948608,\n",
       "  0.6287088394165039,\n",
       "  0.6340165138244629,\n",
       "  0.6338304877281189,\n",
       "  0.6372390389442444,\n",
       "  0.6240148544311523,\n",
       "  0.6280961632728577,\n",
       "  0.6406686305999756,\n",
       "  0.6362844109535217,\n",
       "  0.6333773136138916,\n",
       "  0.6205141544342041,\n",
       "  0.6294804215431213,\n",
       "  0.6295121312141418,\n",
       "  0.648401141166687,\n",
       "  0.627175509929657,\n",
       "  0.6414064764976501,\n",
       "  0.6233123540878296,\n",
       "  0.6456336379051208,\n",
       "  0.6365271210670471,\n",
       "  0.6132073998451233,\n",
       "  0.6262170672416687,\n",
       "  0.6244215965270996,\n",
       "  0.6335297226905823,\n",
       "  0.6130491495132446,\n",
       "  0.6225019097328186,\n",
       "  0.6133356094360352,\n",
       "  0.6186816096305847,\n",
       "  0.6277869939804077,\n",
       "  0.6279082894325256,\n",
       "  0.6009960174560547,\n",
       "  0.6276944279670715,\n",
       "  0.6083468794822693,\n",
       "  0.6052506566047668,\n",
       "  0.6204161643981934,\n",
       "  0.6351841688156128,\n",
       "  0.600725531578064,\n",
       "  0.6385398507118225,\n",
       "  0.6265134215354919,\n",
       "  0.6122437715530396,\n",
       "  0.6229888200759888],\n",
       " 'accuracy': [0.4452214539051056,\n",
       "  0.4172494113445282,\n",
       "  0.4172494113445282,\n",
       "  0.45221444964408875,\n",
       "  0.46853145956993103,\n",
       "  0.5268065333366394,\n",
       "  0.5361305475234985,\n",
       "  0.5361305475234985,\n",
       "  0.5407925248146057,\n",
       "  0.5920745730400085,\n",
       "  0.5780885815620422,\n",
       "  0.5990676283836365,\n",
       "  0.5710955858230591,\n",
       "  0.5920745730400085,\n",
       "  0.5967366099357605,\n",
       "  0.631701648235321,\n",
       "  0.5687645673751831,\n",
       "  0.6013985872268677,\n",
       "  0.5827505588531494,\n",
       "  0.6153846383094788,\n",
       "  0.5780885815620422,\n",
       "  0.5990676283836365,\n",
       "  0.5967366099357605,\n",
       "  0.6270396113395691,\n",
       "  0.6200466156005859,\n",
       "  0.6223776340484619,\n",
       "  0.61771559715271,\n",
       "  0.6247086524963379,\n",
       "  0.6410256624221802,\n",
       "  0.6083915829658508,\n",
       "  0.6340326070785522,\n",
       "  0.6526806354522705,\n",
       "  0.6596736311912537,\n",
       "  0.6480186581611633,\n",
       "  0.6410256624221802,\n",
       "  0.6620046496391296,\n",
       "  0.6573426723480225,\n",
       "  0.6643356680870056,\n",
       "  0.6643356680870056,\n",
       "  0.6363636255264282,\n",
       "  0.6596736311912537,\n",
       "  0.6480186581611633,\n",
       "  0.6410256624221802,\n",
       "  0.6736596822738647,\n",
       "  0.6480186581611633,\n",
       "  0.6573426723480225,\n",
       "  0.6503496766090393,\n",
       "  0.6643356680870056,\n",
       "  0.6573426723480225,\n",
       "  0.6386946439743042,\n",
       "  0.6620046496391296,\n",
       "  0.6643356680870056,\n",
       "  0.6596736311912537,\n",
       "  0.6480186581611633,\n",
       "  0.6596736311912537,\n",
       "  0.6620046496391296,\n",
       "  0.6713286638259888,\n",
       "  0.6596736311912537,\n",
       "  0.6736596822738647,\n",
       "  0.6853147149085999,\n",
       "  0.687645673751831,\n",
       "  0.6759907007217407,\n",
       "  0.6666666865348816,\n",
       "  0.6736596822738647,\n",
       "  0.6689976453781128,\n",
       "  0.6713286638259888,\n",
       "  0.6853147149085999,\n",
       "  0.6689976453781128,\n",
       "  0.6689976453781128,\n",
       "  0.6643356680870056,\n",
       "  0.692307710647583,\n",
       "  0.6713286638259888,\n",
       "  0.6736596822738647,\n",
       "  0.6689976453781128,\n",
       "  0.6783216595649719,\n",
       "  0.6783216595649719,\n",
       "  0.6643356680870056,\n",
       "  0.6689976453781128,\n",
       "  0.6736596822738647,\n",
       "  0.6783216595649719,\n",
       "  0.6620046496391296,\n",
       "  0.6643356680870056,\n",
       "  0.687645673751831,\n",
       "  0.6993007063865662,\n",
       "  0.6806526780128479,\n",
       "  0.6783216595649719,\n",
       "  0.6946386694908142,\n",
       "  0.6689976453781128,\n",
       "  0.689976692199707,\n",
       "  0.6993007063865662,\n",
       "  0.6736596822738647,\n",
       "  0.689976692199707,\n",
       "  0.6783216595649719,\n",
       "  0.6713286638259888,\n",
       "  0.6620046496391296,\n",
       "  0.689976692199707,\n",
       "  0.6713286638259888,\n",
       "  0.6666666865348816,\n",
       "  0.6853147149085999,\n",
       "  0.6736596822738647],\n",
       " 'val_loss': [12.560917854309082,\n",
       "  7.335904598236084,\n",
       "  3.270622491836548,\n",
       "  1.969760775566101,\n",
       "  2.631375551223755,\n",
       "  3.2064146995544434,\n",
       "  3.0729360580444336,\n",
       "  2.983057975769043,\n",
       "  2.623985767364502,\n",
       "  2.3444669246673584,\n",
       "  1.8778444528579712,\n",
       "  1.53874671459198,\n",
       "  1.3592545986175537,\n",
       "  1.2543281316757202,\n",
       "  1.0145752429962158,\n",
       "  0.9462329149246216,\n",
       "  0.8688122630119324,\n",
       "  0.841314971446991,\n",
       "  0.8239144086837769,\n",
       "  0.789836049079895,\n",
       "  0.7653263211250305,\n",
       "  0.7681546211242676,\n",
       "  0.7414852976799011,\n",
       "  0.7205902338027954,\n",
       "  0.7758586406707764,\n",
       "  0.698954701423645,\n",
       "  0.7008480429649353,\n",
       "  0.70155268907547,\n",
       "  0.688317060470581,\n",
       "  0.7137437462806702,\n",
       "  0.677589476108551,\n",
       "  0.6761016249656677,\n",
       "  0.6775267720222473,\n",
       "  0.7005746364593506,\n",
       "  0.7239620089530945,\n",
       "  0.6786183714866638,\n",
       "  0.7281555533409119,\n",
       "  0.6955673694610596,\n",
       "  0.7025654315948486,\n",
       "  0.678494930267334,\n",
       "  0.679928183555603,\n",
       "  0.721889853477478,\n",
       "  0.6918866634368896,\n",
       "  0.6724275946617126,\n",
       "  0.681289792060852,\n",
       "  0.7457916736602783,\n",
       "  0.6790685057640076,\n",
       "  0.6769185066223145,\n",
       "  0.6736161112785339,\n",
       "  0.677593469619751,\n",
       "  0.7114886045455933,\n",
       "  0.6728333234786987,\n",
       "  0.6712481379508972,\n",
       "  0.6723642945289612,\n",
       "  0.6689782738685608,\n",
       "  0.6859504580497742,\n",
       "  0.6720420122146606,\n",
       "  0.6930987238883972,\n",
       "  0.6872841715812683,\n",
       "  0.6818765997886658,\n",
       "  0.6899994015693665,\n",
       "  0.6753756999969482,\n",
       "  0.6796705722808838,\n",
       "  0.6762049198150635,\n",
       "  0.6765049695968628,\n",
       "  0.6932711601257324,\n",
       "  0.675409197807312,\n",
       "  0.6781500577926636,\n",
       "  0.6973080039024353,\n",
       "  0.6858697533607483,\n",
       "  0.6796063780784607,\n",
       "  0.6870954036712646,\n",
       "  0.701410710811615,\n",
       "  0.677425742149353,\n",
       "  0.6789808869361877,\n",
       "  0.676557183265686,\n",
       "  0.6880325078964233,\n",
       "  0.680488109588623,\n",
       "  0.6913738250732422,\n",
       "  0.6758197546005249,\n",
       "  0.6795806884765625,\n",
       "  0.6821040511131287,\n",
       "  0.6798160076141357,\n",
       "  0.6816815733909607,\n",
       "  0.6802902221679688,\n",
       "  0.6800112128257751,\n",
       "  0.6781913042068481,\n",
       "  0.6827136278152466,\n",
       "  0.6853206157684326,\n",
       "  0.6790298223495483,\n",
       "  0.6748722195625305,\n",
       "  0.6818185448646545,\n",
       "  0.6936512589454651,\n",
       "  0.6855354905128479,\n",
       "  0.6797457933425903,\n",
       "  0.6930831670761108,\n",
       "  0.687114417552948,\n",
       "  0.6827324032783508,\n",
       "  0.682231068611145,\n",
       "  0.6869456171989441],\n",
       " 'val_accuracy': [0.3888888955116272,\n",
       "  0.4166666567325592,\n",
       "  0.4166666567325592,\n",
       "  0.45370370149612427,\n",
       "  0.5462962985038757,\n",
       "  0.6111111044883728,\n",
       "  0.6203703880310059,\n",
       "  0.6203703880310059,\n",
       "  0.6203703880310059,\n",
       "  0.6203703880310059,\n",
       "  0.6296296119689941,\n",
       "  0.6203703880310059,\n",
       "  0.6111111044883728,\n",
       "  0.6111111044883728,\n",
       "  0.5648148059844971,\n",
       "  0.5648148059844971,\n",
       "  0.5462962985038757,\n",
       "  0.5185185074806213,\n",
       "  0.5555555820465088,\n",
       "  0.5555555820465088,\n",
       "  0.5555555820465088,\n",
       "  0.5277777910232544,\n",
       "  0.5370370149612427,\n",
       "  0.5648148059844971,\n",
       "  0.5,\n",
       "  0.5648148059844971,\n",
       "  0.5555555820465088,\n",
       "  0.5555555820465088,\n",
       "  0.5555555820465088,\n",
       "  0.5648148059844971,\n",
       "  0.6296296119689941,\n",
       "  0.5833333134651184,\n",
       "  0.5833333134651184,\n",
       "  0.5740740895271301,\n",
       "  0.5740740895271301,\n",
       "  0.6018518805503845,\n",
       "  0.5555555820465088,\n",
       "  0.5555555820465088,\n",
       "  0.5740740895271301,\n",
       "  0.5925925970077515,\n",
       "  0.5833333134651184,\n",
       "  0.5277777910232544,\n",
       "  0.5740740895271301,\n",
       "  0.6111111044883728,\n",
       "  0.5833333134651184,\n",
       "  0.49074074625968933,\n",
       "  0.5833333134651184,\n",
       "  0.6111111044883728,\n",
       "  0.6111111044883728,\n",
       "  0.6111111044883728,\n",
       "  0.5648148059844971,\n",
       "  0.6296296119689941,\n",
       "  0.6111111044883728,\n",
       "  0.6388888955116272,\n",
       "  0.6296296119689941,\n",
       "  0.5925925970077515,\n",
       "  0.6203703880310059,\n",
       "  0.6111111044883728,\n",
       "  0.6111111044883728,\n",
       "  0.5925925970077515,\n",
       "  0.5833333134651184,\n",
       "  0.6203703880310059,\n",
       "  0.6203703880310059,\n",
       "  0.6296296119689941,\n",
       "  0.6018518805503845,\n",
       "  0.5740740895271301,\n",
       "  0.6296296119689941,\n",
       "  0.6111111044883728,\n",
       "  0.5740740895271301,\n",
       "  0.6018518805503845,\n",
       "  0.6296296119689941,\n",
       "  0.6018518805503845,\n",
       "  0.5833333134651184,\n",
       "  0.6388888955116272,\n",
       "  0.6296296119689941,\n",
       "  0.6203703880310059,\n",
       "  0.6388888955116272,\n",
       "  0.6481481194496155,\n",
       "  0.5833333134651184,\n",
       "  0.6388888955116272,\n",
       "  0.6296296119689941,\n",
       "  0.6388888955116272,\n",
       "  0.6388888955116272,\n",
       "  0.6296296119689941,\n",
       "  0.6481481194496155,\n",
       "  0.6574074029922485,\n",
       "  0.6574074029922485,\n",
       "  0.6388888955116272,\n",
       "  0.6203703880310059,\n",
       "  0.6666666865348816,\n",
       "  0.6574074029922485,\n",
       "  0.6481481194496155,\n",
       "  0.5925925970077515,\n",
       "  0.6388888955116272,\n",
       "  0.6481481194496155,\n",
       "  0.6203703880310059,\n",
       "  0.6296296119689941,\n",
       "  0.6574074029922485,\n",
       "  0.6666666865348816,\n",
       "  0.6666666865348816]}"
      ]
     },
     "execution_count": 45,
     "metadata": {},
     "output_type": "execute_result"
    }
   ],
   "source": [
    "history.history"
   ]
  },
  {
   "cell_type": "code",
   "execution_count": 46,
   "metadata": {
    "colab": {
     "base_uri": "https://localhost:8080/",
     "height": 590
    },
    "colab_type": "code",
    "executionInfo": {
     "elapsed": 15780,
     "status": "ok",
     "timestamp": 1571065655386,
     "user": {
      "displayName": "ai school",
      "photoUrl": "",
      "userId": "08125262134229048618"
     },
     "user_tz": -120
    },
    "id": "9gdoKXJbzOyo",
    "outputId": "5187fae5-aa68-43c9-f7d6-a9c2c1bb2ca2"
   },
   "outputs": [
    {
     "name": "stdout",
     "output_type": "stream",
     "text": [
      "dict_keys(['loss', 'accuracy', 'val_loss', 'val_accuracy'])\n"
     ]
    },
    {
     "data": {
      "image/png": "[encoded data removed]",
      "text/plain": [
       "<Figure size 432x288 with 1 Axes>"
      ]
     },
     "metadata": {
      "needs_background": "light"
     },
     "output_type": "display_data"
    },
    {
     "data": {
      "image/png": "[encoded data removed]",
      "text/plain": [
       "<Figure size 432x288 with 1 Axes>"
      ]
     },
     "metadata": {
      "needs_background": "light"
     },
     "output_type": "display_data"
    }
   ],
   "source": [
    "import matplotlib.pyplot as plt\n",
    "\n",
    "%matplotlib inline\n",
    "\n",
    "# list all data in history\n",
    "print(history.history.keys())\n",
    "# summarize history for accuracy\n",
    "plt.plot(history.history['accuracy'])\n",
    "plt.plot(history.history['val_accuracy'])\n",
    "plt.title('model accuracy')\n",
    "plt.ylabel('accuracy')\n",
    "plt.xlabel('epoch')\n",
    "plt.legend(['train', 'val'], loc='upper left')\n",
    "plt.show()\n",
    "# summarize history for loss\n",
    "plt.plot(history.history['loss'])\n",
    "plt.plot(history.history['val_loss'])\n",
    "plt.title('model loss')\n",
    "plt.ylabel('loss')\n",
    "plt.xlabel('epoch')\n",
    "plt.legend(['train', 'val'], loc='upper left')\n",
    "plt.show()"
   ]
  },
  {
   "cell_type": "code",
   "execution_count": null,
   "metadata": {
    "colab": {},
    "colab_type": "code",
    "id": "YqeMSesLzOys"
   },
   "outputs": [],
   "source": []
  },
  {
   "cell_type": "code",
   "execution_count": null,
   "metadata": {},
   "outputs": [],
   "source": []
  },
  {
   "cell_type": "code",
   "execution_count": null,
   "metadata": {},
   "outputs": [],
   "source": []
  },
  {
   "cell_type": "code",
   "execution_count": null,
   "metadata": {},
   "outputs": [],
   "source": []
  },
  {
   "cell_type": "code",
   "execution_count": null,
   "metadata": {},
   "outputs": [],
   "source": []
  }
 ],
 "metadata": {
  "colab": {
   "name": "Keras_MLP.ipynb",
   "provenance": [],
   "toc_visible": true
  },
  "kernelspec": {
   "display_name": "Python 3 (ipykernel)",
   "language": "python",
   "name": "python3"
  },
  "language_info": {
   "codemirror_mode": {
    "name": "ipython",
    "version": 3
   },
   "file_extension": ".py",
   "mimetype": "text/x-python",
   "name": "python",
   "nbconvert_exporter": "python",
   "pygments_lexer": "ipython3",
   "version": "3.8.8"
  }
 },
 "nbformat": 4,
 "nbformat_minor": 1
}
